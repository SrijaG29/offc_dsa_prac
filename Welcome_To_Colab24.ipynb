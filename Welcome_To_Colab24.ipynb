{
  "cells": [
    {
      "cell_type": "markdown",
      "metadata": {
        "id": "view-in-github",
        "colab_type": "text"
      },
      "source": [
        "<a href=\"https://colab.research.google.com/github/SrijaG29/offc_dsa_prac/blob/main/Welcome_To_Colab24.ipynb\" target=\"_parent\"><img src=\"https://colab.research.google.com/assets/colab-badge.svg\" alt=\"Open In Colab\"/></a>"
      ]
    },
    {
      "cell_type": "markdown",
      "source": [
        "Search for insertion position"
      ],
      "metadata": {
        "id": "k2qklfDnx6Fh"
      }
    },
    {
      "cell_type": "code",
      "source": [
        "public class searchInsertionPosition {\n",
        "    public static void main(String[] args) {\n",
        "        int[] nums = {1,3,5,6};\n",
        "        int target = 5;\n",
        "        int left =0;\n",
        "        int right = nums.length-1;\n",
        "        int result = -1;\n",
        "        while(left <= right){\n",
        "            int mid = (left + right)/2;\n",
        "            if(nums[mid]==target){\n",
        "                System.out.println(mid);\n",
        "                break;\n",
        "            }\n",
        "            else if(nums[mid]<target){\n",
        "                result = mid+1;\n",
        "                left = mid +1;\n",
        "            }\n",
        "            else{\n",
        "                result = mid;\n",
        "                right = mid -1;\n",
        "            }\n",
        "        }\n",
        "        System.out.println(result);\n",
        "    }\n",
        "}\n"
      ],
      "metadata": {
        "id": "5oD2LmpJx5I9"
      },
      "execution_count": null,
      "outputs": []
    }
  ],
  "metadata": {
    "colab": {
      "name": "Welcome To Colab",
      "toc_visible": true,
      "provenance": [],
      "include_colab_link": true
    },
    "kernelspec": {
      "display_name": "Python 3",
      "name": "python3"
    }
  },
  "nbformat": 4,
  "nbformat_minor": 0
}