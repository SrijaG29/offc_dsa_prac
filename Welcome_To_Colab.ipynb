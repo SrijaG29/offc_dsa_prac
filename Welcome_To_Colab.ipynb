{
  "cells": [
    {
      "cell_type": "markdown",
      "metadata": {
        "id": "view-in-github",
        "colab_type": "text"
      },
      "source": [
        "<a href=\"https://colab.research.google.com/github/SrijaG29/offc_dsa_prac/blob/main/Welcome_To_Colab.ipynb\" target=\"_parent\"><img src=\"https://colab.research.google.com/assets/colab-badge.svg\" alt=\"Open In Colab\"/></a>"
      ]
    },
    {
      "cell_type": "markdown",
      "source": [
        "app.component\n"
      ],
      "metadata": {
        "id": "aWidwWgbwWWc"
      }
    },
    {
      "cell_type": "markdown",
      "source": [
        "app-routing.module.ts"
      ],
      "metadata": {
        "id": "JWWkifnBwaUT"
      }
    },
    {
      "cell_type": "code",
      "source": [
        "import { NgModule } from '@angular/core';\n",
        "import { RouterModule, Routes } from '@angular/router';\n",
        "// import { AuthheaderComponent } from './authheader/authheader.component';\n",
        "import { LoginPageComponent } from './login-page/login-page.component';\n",
        "import { RegisterPageComponent } from './register-page/register-page.component';\n",
        "import { ProfileComponent } from './profile/profile.component';\n",
        "\n",
        "const routes: Routes = [\n",
        "  // {path:'',component:AuthheaderComponent},\n",
        "  {path:'login',component:LoginPageComponent},\n",
        "  {path:'register',component:RegisterPageComponent},\n",
        "  {path:'profile',component:ProfileComponent},\n",
        "  { path: '', redirectTo: '/login', pathMatch: 'full' }\n",
        "];\n",
        "\n",
        "@NgModule({\n",
        "  imports: [RouterModule.forRoot(routes)],\n",
        "  exports: [RouterModule]\n",
        "})\n",
        "export class AppRoutingModule { }\n"
      ],
      "metadata": {
        "id": "s_bhs1wiwnHr"
      },
      "execution_count": null,
      "outputs": []
    },
    {
      "cell_type": "markdown",
      "source": [
        "app.component.html"
      ],
      "metadata": {
        "id": "x8L0Majfwn3B"
      }
    },
    {
      "cell_type": "code",
      "source": [
        "<app-authheader *ngIf=\"showHeader\"></app-authheader>\n",
        "<router-outlet></router-outlet>"
      ],
      "metadata": {
        "id": "J6AEthPMwrYX"
      },
      "execution_count": null,
      "outputs": []
    },
    {
      "cell_type": "markdown",
      "source": [
        "app.component.ts"
      ],
      "metadata": {
        "id": "6fTCCf7dwsHz"
      }
    },
    {
      "cell_type": "code",
      "source": [
        "import { Component } from '@angular/core';\n",
        "import { Router } from '@angular/router';\n",
        "\n",
        "@Component({\n",
        "  selector: 'app-root',\n",
        "  templateUrl: './app.component.html',\n",
        "  standalone: false,\n",
        "  styleUrl: './app.component.css'\n",
        "})\n",
        "export class AppComponent {\n",
        "  title = 'socialMediaPaltform';\n",
        "  showHeader: boolean = true;\n",
        "\n",
        "  constructor(private router: Router) {\n",
        "    this.router.events.subscribe(() => {\n",
        "      this.checkRoute();\n",
        "    });\n",
        "  }\n",
        "\n",
        "  checkRoute() {\n",
        "    // Hide header if the current route is 'profile'\n",
        "    this.showHeader = this.router.url !== '/profile';\n",
        "  }\n",
        "}\n"
      ],
      "metadata": {
        "id": "ruTz3EtHwwKQ"
      },
      "execution_count": null,
      "outputs": []
    },
    {
      "cell_type": "markdown",
      "source": [
        "app.module.ts"
      ],
      "metadata": {
        "id": "A6i5k-elww53"
      }
    },
    {
      "cell_type": "code",
      "source": [
        "import { NgModule } from '@angular/core';\n",
        "import { BrowserModule } from '@angular/platform-browser';\n",
        "import { AppRoutingModule } from './app-routing.module';\n",
        "import { AppComponent } from './app.component';\n",
        "import { LoginPageComponent } from './login-page/login-page.component';\n",
        "import { CommonModule } from '@angular/common';\n",
        "import { FormsModule } from '@angular/forms';\n",
        "import { RegisterPageComponent } from './register-page/register-page.component';\n",
        "import { AuthheaderComponent } from './authheader/authheader.component';\n",
        "import { RouterLink, RouterModule } from '@angular/router';\n",
        "import { HttpClientModule } from '@angular/common/http';\n",
        "\n",
        "@NgModule({\n",
        "  declarations: [\n",
        "    AppComponent,\n",
        "    LoginPageComponent,\n",
        "    RegisterPageComponent,\n",
        "    AuthheaderComponent\n",
        "  ],\n",
        "  imports: [\n",
        "    BrowserModule,\n",
        "    AppRoutingModule,\n",
        "    FormsModule,\n",
        "    CommonModule,\n",
        "    RouterLink,\n",
        "    RouterModule,\n",
        "    HttpClientModule\n",
        "  ],\n",
        "  providers: [],\n",
        "  bootstrap: [AppComponent]\n",
        "})\n",
        "export class AppModule { }\n"
      ],
      "metadata": {
        "id": "0nqWYKt2w3_W"
      },
      "execution_count": null,
      "outputs": []
    },
    {
      "cell_type": "markdown",
      "source": [
        "services/authorization"
      ],
      "metadata": {
        "id": "L_LoO0Egw8aH"
      }
    },
    {
      "cell_type": "markdown",
      "source": [
        "authorizationtest.service.ts"
      ],
      "metadata": {
        "id": "Pbgl0p-Xw_Tw"
      }
    },
    {
      "cell_type": "code",
      "source": [
        "import { HttpClient } from '@angular/common/http';\n",
        "import { Injectable } from '@angular/core';\n",
        "import { Router } from '@angular/router';\n",
        "import { Observable, of } from 'rxjs';\n",
        "\n",
        "@Injectable({\n",
        "  providedIn: 'root'\n",
        "})\n",
        "export class AuthorizationService {\n",
        "\n",
        "  private baseUrl = \"\"\n",
        "  user:Object;\n",
        "  constructor(private http:HttpClient,private router:Router) {\n",
        "    this.user={\n",
        "      username:'carts'\n",
        "    }\n",
        "  }\n",
        "  // login(username:string) Observable<any>{\n",
        "  //   this.user={\n",
        "  //     username:username\n",
        "  //   }\n",
        "  //   return of(this.user);\n",
        "  // }\n",
        "\n",
        "  register(user:object){\n",
        "    // https://fakestoreapi.com/products/categories\n",
        "    // this.http.post(`${this.baseUrl}/register`,user);\n",
        "    this.router.navigate(['/login']);\n",
        "  }\n",
        "}\n"
      ],
      "metadata": {
        "id": "ew-zz1U5xB3w"
      },
      "execution_count": null,
      "outputs": []
    },
    {
      "cell_type": "markdown",
      "source": [
        "authheader component"
      ],
      "metadata": {
        "id": "q4RPthOb1dYG"
      }
    },
    {
      "cell_type": "markdown",
      "source": [
        "authheader.component.css"
      ],
      "metadata": {
        "id": "ewaOlC3o1hA5"
      }
    },
    {
      "cell_type": "code",
      "source": [
        "#authheader{\n",
        "    display: grid;\n",
        "    flex-direction: row;\n",
        "    justify-content:center ;\n",
        "    padding-bottom: 3%;\n",
        "}\n",
        "\n",
        "#routelink{\n",
        "    display: flex;\n",
        "    flex-direction: row;\n",
        "    justify-content: space-between;\n",
        "    font-family: Georgia, serif;\n",
        "}\n",
        "\n",
        ".alink{\n",
        "    padding: 5%;\n",
        "    background: #e2dede;\n",
        "    border-radius: 5px;\n",
        "    color: black;\n",
        "    text-decoration: none;\n",
        "}\n",
        "\n",
        "h3{\n",
        "    font-size: 32px;\n",
        "}"
      ],
      "metadata": {
        "id": "ij10vozixLhy"
      },
      "execution_count": null,
      "outputs": []
    },
    {
      "cell_type": "markdown",
      "source": [
        "authorization.component.html"
      ],
      "metadata": {
        "id": "HYx5IweIxOPp"
      }
    },
    {
      "cell_type": "code",
      "source": [
        "<div id=\"authheader\">\n",
        "    <h3>Welcome to Vibely.</h3>\n",
        "    <div id=\"routelink\">\n",
        "        <a [routerLink]=\"['/login']\" routerLinkActive=\"router-link-active\" class=\"alink\">Sign In</a>\n",
        "        <a [routerLink]=\"['/register']\" routerLinkActive=\"router-link-active\" class=\"alink\">Sign Up</a>\n",
        "    </div>\n",
        "\n",
        "</div>\n"
      ],
      "metadata": {
        "id": "D19TqvrgxZWV"
      },
      "execution_count": null,
      "outputs": []
    },
    {
      "cell_type": "markdown",
      "source": [
        "login-page component"
      ],
      "metadata": {
        "id": "HkWwlSuzxaHx"
      }
    },
    {
      "cell_type": "markdown",
      "source": [
        "login-page.component.css"
      ],
      "metadata": {
        "id": "Nb5lqeHP148U"
      }
    },
    {
      "cell_type": "code",
      "source": [
        "#loginPage{\n",
        "    padding-top: 2%;\n",
        "    padding-left: 25%;\n",
        "    padding-right: 25%;\n",
        "    /* padding-bottom: 18%; */\n",
        "    display: flex;\n",
        "    justify-content: center;\n",
        "    align-items: center;\n",
        "}\n",
        "\n",
        "#loginElements{\n",
        "    display: flex;\n",
        "    flex-direction: column;\n",
        "    background-color: #e2dede;\n",
        "    padding: 20px;\n",
        "    width: 300px;\n",
        "    border-radius: 10px;\n",
        "\n",
        "}\n",
        "\n",
        "/* #username,#password{\n",
        "    border-radius: 5%;\n",
        "} */\n",
        "\n",
        "h3{\n",
        "    text-align: center;\n",
        "    font-family: Georgia, serif;\n",
        "}\n",
        "\n",
        "label{\n",
        "    font-size: 16px;\n",
        "    margin-top: 10px;\n",
        "}\n",
        "\n",
        "button{\n",
        "    margin-top: 5%;\n",
        "    width:40%;\n",
        "}\n",
        "\n",
        "input{\n",
        "    margin-top: 1%;\n",
        "}\n",
        "\n"
      ],
      "metadata": {
        "id": "sTm2Gp1_xfLO"
      },
      "execution_count": null,
      "outputs": []
    },
    {
      "cell_type": "markdown",
      "source": [
        "login-page.component.html"
      ],
      "metadata": {
        "id": "bC3kTVfoxpSJ"
      }
    },
    {
      "cell_type": "code",
      "source": [
        "<div id=\"loginPage\">\n",
        "    <div id=\"loginElements\">\n",
        "        <h3>Login:</h3>\n",
        "\n",
        "        <label for=\"username\">Username:</label>\n",
        "        <input type=\"text\" id=\"username\" required [(ngModel)]=\"username\">\n",
        "\n",
        "        <label for=\"password\">Password:</label>\n",
        "        <input type=\"password\" id=\"password\" required [(ngModel)]=\"password\">\n",
        "\n",
        "        <button type=\"submit\" (click)=\"login()\">Login</button>\n",
        "    </div>\n",
        "</div>\n",
        "<!-- <app-register-page></app-register-page> -->\n"
      ],
      "metadata": {
        "id": "gzvGuI-Cxrcg"
      },
      "execution_count": null,
      "outputs": []
    },
    {
      "cell_type": "markdown",
      "source": [
        "login-page.component.ts"
      ],
      "metadata": {
        "id": "NsEQsAOGxwKo"
      }
    },
    {
      "cell_type": "code",
      "source": [
        "import { Component, EventEmitter, Output } from '@angular/core';\n",
        "import { Router } from '@angular/router';\n",
        "import { AuthorizationService } from '../services/authorization/authorization.service';\n",
        "\n",
        "@Component({\n",
        "  selector: 'app-login-page',\n",
        "  standalone: false,\n",
        "\n",
        "  templateUrl: './login-page.component.html',\n",
        "  styleUrls: ['./login-page.component.css']\n",
        "})\n",
        "export class LoginPageComponent {\n",
        "  username = '';\n",
        "  password = '';\n",
        "  // @Output() isProfilePage = new EventEmitter();\n",
        "  // flag:boolean=false;\n",
        "\n",
        "  constructor(private authorizationService:AuthorizationService,private router:Router){}\n",
        "  // login(){\n",
        "  //   this.authorizationService.login(this.username)\n",
        "  //   .subscribe((data) => {\n",
        "  //     this.router.navigate('/profile');\n",
        "  //   },\n",
        "  //   (error)=>{\n",
        "  //     this.router.navigate('/register');\n",
        "  //   });\n",
        "  //   }\n",
        "\n",
        "  login(){\n",
        "    console.log(this.username);\n",
        "    console.log(this.password);\n",
        "    // this.flag=true;\n",
        "    // this.isProfilePage.emit(this.flag);\n",
        "    // this.router.navigate(['/profile']);\n",
        "    this.router.navigate(['/profile'], { state: { username: this.username } });\n",
        "\n",
        "  }\n",
        "}\n",
        "\n"
      ],
      "metadata": {
        "id": "Rl-XI5nNxx-T"
      },
      "execution_count": null,
      "outputs": []
    },
    {
      "cell_type": "markdown",
      "source": [
        "register-page.component"
      ],
      "metadata": {
        "id": "Cf-rjM5Vx2ek"
      }
    },
    {
      "cell_type": "markdown",
      "source": [
        "register-page.component.css"
      ],
      "metadata": {
        "id": "ZUuPnhz8x8r5"
      }
    },
    {
      "cell_type": "code",
      "source": [
        "#registerPage{\n",
        "    padding-top: 2%;\n",
        "    padding-left: 25%;\n",
        "    padding-right: 25%;\n",
        "    /* padding-bottom: 15%; */\n",
        "    display: flex;\n",
        "    justify-content: center;\n",
        "    align-items: center;\n",
        "}\n",
        "\n",
        "#registerElements{\n",
        "    display: flex;\n",
        "    flex-direction: column;\n",
        "    background-color: #e2dede;\n",
        "    padding: 20px;\n",
        "    width: 300px;\n",
        "    border-radius: 10px;\n",
        "\n",
        "}\n",
        "\n",
        "h3{\n",
        "    text-align: center;\n",
        "    font-family: Georgia, serif;\n",
        "}\n",
        "\n",
        "label{\n",
        "    font-size: 16px;\n",
        "    margin-top: 10px;\n",
        "}\n",
        "\n",
        "button{\n",
        "    margin-top: 5%;\n",
        "    width:40%;\n",
        "}\n",
        "\n",
        "input{\n",
        "    margin-top: 1%;\n",
        "}\n",
        "\n"
      ],
      "metadata": {
        "id": "0fgFBENTx56i"
      },
      "execution_count": null,
      "outputs": []
    },
    {
      "cell_type": "markdown",
      "source": [
        "register-page.component.html"
      ],
      "metadata": {
        "id": "4fqg9B73x_-T"
      }
    },
    {
      "cell_type": "code",
      "source": [
        "<div id=\"registerPage\">\n",
        "    <div id=\"registerElements\" *ngIf=\"registerValue\">\n",
        "        <h3>Register:</h3>\n",
        "\n",
        "        <label for=\"username\">Username:</label>\n",
        "        <input type=\"text\" id=\"username\" required [(ngModel)]=\"username\">\n",
        "\n",
        "        <label for=\"password\">Password:</label>\n",
        "        <input type=\"text\" id=\"password\" required [(ngModel)]=\"password\">\n",
        "\n",
        "        <label for=\"email\">Email:</label>\n",
        "        <input type=\"text\" id=\"email\" required [(ngModel)]=\"email\">\n",
        "\n",
        "        <button type=\"submit\" (click)=\"register()\">Register</button>\n",
        "    </div>\n",
        "    <!-- <div id=\"afterregister\" *ngIf=\"!registerValue\">\n",
        "        <p>Registered Successfully</p>;\n",
        "        <app-loginPage></app-loginPage>\n",
        "    </div> -->\n",
        "</div>\n"
      ],
      "metadata": {
        "id": "txnd0VOqyB34"
      },
      "execution_count": null,
      "outputs": []
    },
    {
      "cell_type": "markdown",
      "source": [
        "register-page.component.ts"
      ],
      "metadata": {
        "id": "5DtHi_yRyEaP"
      }
    },
    {
      "cell_type": "code",
      "source": [
        "import { Component } from '@angular/core';\n",
        "// import { AuthorizationService } from '../services/authorization/authorization.service';private authorizationService: AuthorizationService\n",
        "import { Route, Router } from '@angular/router';\n",
        "\n",
        "@Component({\n",
        "  selector: 'app-register-page',\n",
        "  standalone: false,\n",
        "\n",
        "  templateUrl: './register-page.component.html',\n",
        "  styleUrls: ['./register-page.component.css']\n",
        "})\n",
        "export class RegisterPageComponent {\n",
        "  username:string ='';\n",
        "  password:string ='';\n",
        "  email:string='';\n",
        "  registerValue:boolean=true;\n",
        "\n",
        "  constructor(private router:Router){}\n",
        "  register(){\n",
        "    // this.authorizationService.login(this.username)\n",
        "    //   .subscribe((data)=>{\n",
        "    //     console.log(\"Successfully Registered\");\n",
        "    //   });\n",
        "    this.router.navigate(['/login']);\n",
        "  }\n",
        "\n",
        "}\n"
      ],
      "metadata": {
        "id": "zMwRMHguyGWW"
      },
      "execution_count": null,
      "outputs": []
    },
    {
      "cell_type": "markdown",
      "source": [
        "profile.component"
      ],
      "metadata": {
        "id": "eebyz0z3iiOm"
      }
    },
    {
      "cell_type": "markdown",
      "source": [
        "profile.component.html"
      ],
      "metadata": {
        "id": "dzKvuQMsil9L"
      }
    },
    {
      "cell_type": "code",
      "source": [
        "<p>Welcome {{username}}</p>\n"
      ],
      "metadata": {
        "id": "fErc8TOEipvA"
      },
      "execution_count": null,
      "outputs": []
    },
    {
      "cell_type": "markdown",
      "source": [
        "profile.component.ts"
      ],
      "metadata": {
        "id": "r3_SEHw6ioF2"
      }
    },
    {
      "cell_type": "code",
      "source": [
        "import { Component } from '@angular/core';\n",
        "import { Router } from '@angular/router';\n",
        "\n",
        "@Component({\n",
        "  selector: 'app-profile',\n",
        "  standalone: false,\n",
        "\n",
        "  templateUrl: './profile.component.html',\n",
        "  styleUrl: './profile.component.css'\n",
        "})\n",
        "export class ProfileComponent {\n",
        "  username: string = '';\n",
        "\n",
        "  // constructor(private router: Router) {\n",
        "  //   // Retrieve the username from the navigation state\n",
        "  //   const navigation = this.router.getCurrentNavigation();\n",
        "  //   this.username = navigation?.extras.state?.['username'];\n",
        "  // }\n",
        "\n",
        "\n",
        "  constructor(private router:Router) {\n",
        "    // this.username = localStorage.getItem('username') || 'Guest'; // ✅ Retrieve username\n",
        "    const navigation = this.router.getCurrentNavigation();\n",
        "    this.username = navigation?.extras.state?.['username'] || 'Guest';\n",
        "  }\n",
        "}\n"
      ],
      "metadata": {
        "id": "99gAY4hQiukc"
      },
      "execution_count": null,
      "outputs": []
    }
  ],
  "metadata": {
    "colab": {
      "name": "Welcome To Colab",
      "toc_visible": true,
      "provenance": [],
      "include_colab_link": true
    },
    "kernelspec": {
      "display_name": "Python 3",
      "name": "python3"
    }
  },
  "nbformat": 4,
  "nbformat_minor": 0
}