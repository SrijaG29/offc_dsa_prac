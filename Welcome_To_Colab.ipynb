{
  "cells": [
    {
      "cell_type": "markdown",
      "metadata": {
        "id": "view-in-github",
        "colab_type": "text"
      },
      "source": [
        "<a href=\"https://colab.research.google.com/github/SrijaG29/offc_dsa_prac/blob/main/Welcome_To_Colab.ipynb\" target=\"_parent\"><img src=\"https://colab.research.google.com/assets/colab-badge.svg\" alt=\"Open In Colab\"/></a>"
      ]
    },
    {
      "cell_type": "markdown",
      "source": [
        "Insertion sort"
      ],
      "metadata": {
        "id": "Fjs1G9U54o4A"
      }
    },
    {
      "cell_type": "code",
      "source": [
        "import java.util.Arrays;\n",
        "\n",
        "public class insertionSort {\n",
        "    public static void main(String[] args){\n",
        "        int[] arr = {12, 11, 13, 5, 6};\n",
        "        int n = arr.length;\n",
        "        for(int i=1;i<n;i++){\n",
        "            int key = arr[i];\n",
        "            int j = i-1;\n",
        "            while(j>=0 && arr[j]>key){\n",
        "                arr[j+1] = arr[j];\n",
        "                j = j -1;\n",
        "            }\n",
        "            arr[j+1] = key;\n",
        "        }\n",
        "        System.out.println(Arrays.toString(arr));\n",
        "    }\n",
        "}\n"
      ],
      "metadata": {
        "id": "l1vr7bBT4rht"
      },
      "execution_count": null,
      "outputs": []
    },
    {
      "cell_type": "markdown",
      "source": [
        "maximum subarray sum"
      ],
      "metadata": {
        "id": "uSL1y25Q4sho"
      }
    },
    {
      "cell_type": "code",
      "source": [
        "public class maximumSubArray {\n",
        "    public static void main(String[] args){\n",
        "        int[] arr = {-2,1,-3,4,-1,2,1,-5,4};\n",
        "        int maxSum=arr[0];\n",
        "//        bf method\n",
        "//        for(int i=0;i<arr.length;i++){\n",
        "//            int dummySum=arr[i];\n",
        "//            for(int j=i+1;j<arr.length;j++){\n",
        "//                dummySum+=arr[j];\n",
        "//                if(dummySum>maxSum){\n",
        "//                    maxSum=dummySum;\n",
        "//                }\n",
        "//            }\n",
        "//            dummySum=0;\n",
        "//        }\n",
        "//        System.out.println(maxSum);\n",
        "\n",
        "//        optimized method\n",
        "        int[] dummyArr = new int[arr.length];\n",
        "        dummyArr[0] = arr[0];\n",
        "        for(int i=1;i<arr.length;i++){\n",
        "            if(dummyArr[i-1] < 0){\n",
        "                dummyArr[i] = arr[i];\n",
        "            }\n",
        "            else{\n",
        "                dummyArr[i] = dummyArr[i-1] + arr[i];\n",
        "            }\n",
        "            maxSum = Math.max(dummyArr[i],maxSum);\n",
        "        }\n",
        "        System.out.println(maxSum);\n",
        "    }\n",
        "}\n"
      ],
      "metadata": {
        "id": "B2p7J02W4unp"
      },
      "execution_count": null,
      "outputs": []
    },
    {
      "cell_type": "markdown",
      "source": [
        "buy and sell"
      ],
      "metadata": {
        "id": "wrPpolvJVi_K"
      }
    },
    {
      "cell_type": "code",
      "source": [
        "public class buyAndSell {\n",
        "    public static void main(String[] args){\n",
        "        int[] prices = {7,1,5,3,6,4};\n",
        "        int l = 0;\n",
        "        int r = 1;\n",
        "        int result =0;\n",
        "        int dummy =0;\n",
        "        while(r<prices.length){\n",
        "            if(prices[l]<prices[r]){\n",
        "                System.out.println(prices[l]+\" \"+prices[r]);\n",
        "                dummy = prices[r]-prices[l];\n",
        "//                System.out.println(dummy);\n",
        "                result = Math.max(result,dummy);\n",
        "//                System.out.println(result);\n",
        "            }\n",
        "            else{\n",
        "                l = r;\n",
        "            }\n",
        "            r++;\n",
        "        }\n",
        "        System.out.println(result);\n",
        "    }\n",
        "}\n"
      ],
      "metadata": {
        "id": "bYi5hiFhVh_k"
      },
      "execution_count": null,
      "outputs": []
    },
    {
      "cell_type": "markdown",
      "source": [
        "positive negative"
      ],
      "metadata": {
        "id": "ff4qsfjwYYTe"
      }
    },
    {
      "cell_type": "code",
      "source": [
        "import java.util.ArrayList;\n",
        "\n",
        "public class rearrangeEleBySign {\n",
        "    public static void main(String[] args){\n",
        "        int[] arr = {3,1,-2,-5,2,-4};\n",
        "        ArrayList<Integer> parr = new ArrayList<>();\n",
        "        ArrayList<Integer> narr = new ArrayList<>();\n",
        "        ArrayList<Integer> result = new ArrayList<>();\n",
        "        for(int i: arr){\n",
        "            if(i>0){\n",
        "                parr.add(i);\n",
        "            }\n",
        "            else{\n",
        "                narr.add(i);\n",
        "            }\n",
        "        }\n",
        "        int x1=0,x2=0;\n",
        "        while(x1<arr.length/2){\n",
        "            result.add(parr.get(x1));\n",
        "            x1++;\n",
        "            result.add(narr.get(x2));\n",
        "            x2++;\n",
        "        }\n",
        "        System.out.println(result);\n",
        "    }\n",
        "}\n"
      ],
      "metadata": {
        "id": "UEpGCMRAYaq8"
      },
      "execution_count": null,
      "outputs": []
    }
  ],
  "metadata": {
    "colab": {
      "name": "Welcome To Colab",
      "toc_visible": true,
      "provenance": [],
      "include_colab_link": true
    },
    "kernelspec": {
      "display_name": "Python 3",
      "name": "python3"
    }
  },
  "nbformat": 4,
  "nbformat_minor": 0
}