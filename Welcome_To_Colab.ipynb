{
  "cells": [
    {
      "cell_type": "markdown",
      "metadata": {
        "id": "view-in-github",
        "colab_type": "text"
      },
      "source": [
        "<a href=\"https://colab.research.google.com/github/SrijaG29/offc_dsa_prac/blob/main/Welcome_To_Colab.ipynb\" target=\"_parent\"><img src=\"https://colab.research.google.com/assets/colab-badge.svg\" alt=\"Open In Colab\"/></a>"
      ]
    },
    {
      "cell_type": "markdown",
      "source": [
        "app.component\n"
      ],
      "metadata": {
        "id": "aWidwWgbwWWc"
      }
    },
    {
      "cell_type": "markdown",
      "source": [
        "app-routing.module.ts"
      ],
      "metadata": {
        "id": "JWWkifnBwaUT"
      }
    },
    {
      "cell_type": "code",
      "source": [
        "import { NgModule } from '@angular/core';\n",
        "import { RouterModule, Routes } from '@angular/router';\n",
        "// import { AuthheaderComponent } from './authheader/authheader.component';\n",
        "import { LoginPageComponent } from './login-page/login-page.component';\n",
        "import { RegisterPageComponent } from './register-page/register-page.component';\n",
        "import { ProfileComponent } from './profile/profile.component';\n",
        "import { EditProfileComponent } from './edit-profile/edit-profile.component';\n",
        "import { AddPostComponent } from './add-post/add-post.component';\n",
        "\n",
        "const routes: Routes = [\n",
        "  // {path:'',component:AuthheaderComponent},\n",
        "  {path:'login',component:LoginPageComponent},\n",
        "  {path:'register',component:RegisterPageComponent},\n",
        "  {path:'profile',component:ProfileComponent},\n",
        "  { path: '', redirectTo: '/login', pathMatch: 'full' },\n",
        "  {path:'editprofile',component:EditProfileComponent},\n",
        "  {path:'addpost',component:AddPostComponent}\n",
        "];\n",
        "\n",
        "@NgModule({\n",
        "  imports: [RouterModule.forRoot(routes)],\n",
        "  exports: [RouterModule]\n",
        "})\n",
        "export class AppRoutingModule { }\n"
      ],
      "metadata": {
        "id": "s_bhs1wiwnHr"
      },
      "execution_count": null,
      "outputs": []
    },
    {
      "cell_type": "markdown",
      "source": [
        "app.component.html"
      ],
      "metadata": {
        "id": "x8L0Majfwn3B"
      }
    },
    {
      "cell_type": "code",
      "source": [
        "<app-authheader *ngIf=\"showHeader\"></app-authheader>\n",
        "<router-outlet></router-outlet>"
      ],
      "metadata": {
        "id": "J6AEthPMwrYX"
      },
      "execution_count": null,
      "outputs": []
    },
    {
      "cell_type": "markdown",
      "source": [
        "app.component.ts"
      ],
      "metadata": {
        "id": "6fTCCf7dwsHz"
      }
    },
    {
      "cell_type": "code",
      "source": [
        "import { Component } from '@angular/core';\n",
        "import { Router } from '@angular/router';\n",
        "\n",
        "@Component({\n",
        "  selector: 'app-root',\n",
        "  templateUrl: './app.component.html',\n",
        "  standalone: false,\n",
        "  styleUrl: './app.component.css'\n",
        "})\n",
        "export class AppComponent {\n",
        "  title = 'socialMediaPaltform';\n",
        "  showHeader: boolean = true;\n",
        "\n",
        "  constructor(private router: Router) {\n",
        "    this.router.events.subscribe(() => {\n",
        "      this.checkRoute();\n",
        "    });\n",
        "  }\n",
        "\n",
        "  checkRoute() {\n",
        "    // Hide header if the current route is 'profile'\n",
        "    // this.showHeader = this.router.url !== '/profile';\n",
        "    this.showHeader = !['/profile', '/editprofile','/addpost'].includes(this.router.url);\n",
        "  }\n",
        "}\n"
      ],
      "metadata": {
        "id": "ruTz3EtHwwKQ"
      },
      "execution_count": null,
      "outputs": []
    },
    {
      "cell_type": "markdown",
      "source": [
        "app.module.ts"
      ],
      "metadata": {
        "id": "A6i5k-elww53"
      }
    },
    {
      "cell_type": "code",
      "source": [
        "import { NgModule } from '@angular/core';\n",
        "import { BrowserModule } from '@angular/platform-browser';\n",
        "import { AppRoutingModule } from './app-routing.module';\n",
        "import { AppComponent } from './app.component';\n",
        "import { LoginPageComponent } from './login-page/login-page.component';\n",
        "import { CommonModule } from '@angular/common';\n",
        "import { FormsModule } from '@angular/forms';\n",
        "import { RegisterPageComponent } from './register-page/register-page.component';\n",
        "import { AuthheaderComponent } from './authheader/authheader.component';\n",
        "import { RouterLink, RouterModule } from '@angular/router';\n",
        "import { HttpClientModule } from '@angular/common/http';\n",
        "import { EditProfileComponent } from './edit-profile/edit-profile.component';\n",
        "import { AddPostComponent } from './add-post/add-post.component';\n",
        "\n",
        "@NgModule({\n",
        "  declarations: [\n",
        "    AppComponent,\n",
        "    LoginPageComponent,\n",
        "    RegisterPageComponent,\n",
        "    AuthheaderComponent,\n",
        "    AddPostComponent\n",
        "  ],\n",
        "  imports: [\n",
        "    BrowserModule,\n",
        "    AppRoutingModule,\n",
        "    FormsModule,\n",
        "    CommonModule,\n",
        "    RouterModule,\n",
        "    HttpClientModule,\n",
        "    EditProfileComponent\n",
        "  ],\n",
        "  providers: [],\n",
        "  bootstrap: [AppComponent]\n",
        "})\n",
        "export class AppModule { }\n"
      ],
      "metadata": {
        "id": "0nqWYKt2w3_W"
      },
      "execution_count": null,
      "outputs": []
    },
    {
      "cell_type": "markdown",
      "source": [
        "services/authorization"
      ],
      "metadata": {
        "id": "L_LoO0Egw8aH"
      }
    },
    {
      "cell_type": "markdown",
      "source": [
        "authorizationtest.service.ts"
      ],
      "metadata": {
        "id": "Pbgl0p-Xw_Tw"
      }
    },
    {
      "cell_type": "code",
      "source": [
        "import { HttpClient } from '@angular/common/http';\n",
        "import { Injectable } from '@angular/core';\n",
        "import { Router } from '@angular/router';\n",
        "import { Observable, of } from 'rxjs';\n",
        "\n",
        "@Injectable({\n",
        "  providedIn: 'root'\n",
        "})\n",
        "export class AuthorizationService {\n",
        "\n",
        "  private baseUrl = \"\"\n",
        "  user:Object;\n",
        "  constructor(private http:HttpClient,private router:Router) {\n",
        "    this.user={\n",
        "      username:'carts'\n",
        "    }\n",
        "  }\n",
        "  // login(username:string) Observable<any>{\n",
        "  //   this.user={\n",
        "  //     username:username\n",
        "  //   }\n",
        "  //   return of(this.user);\n",
        "  // }\n",
        "\n",
        "  register(user:object){\n",
        "    // https://fakestoreapi.com/products/categories\n",
        "    // this.http.post(`${this.baseUrl}/register`,user);\n",
        "    this.router.navigate(['/login']);\n",
        "  }\n",
        "}\n"
      ],
      "metadata": {
        "id": "ew-zz1U5xB3w"
      },
      "execution_count": null,
      "outputs": []
    },
    {
      "cell_type": "markdown",
      "source": [
        "add-post.service.ts"
      ],
      "metadata": {
        "id": "kKW3gy2NyMDw"
      }
    },
    {
      "cell_type": "code",
      "source": [
        "import { Injectable } from '@angular/core';\n",
        "\n",
        "@Injectable({\n",
        "  providedIn: 'root'\n",
        "})\n",
        "export class AddPostService {\n",
        "\n",
        "  private posts: any[] = [];\n",
        "\n",
        "  constructor() { }\n",
        "\n",
        "  addPost(post:any){\n",
        "    this.posts.unshift(post);\n",
        "  }\n",
        "\n",
        "  getPosts(){\n",
        "    return this.posts;\n",
        "  }\n",
        "}\n"
      ],
      "metadata": {
        "id": "VVqzuCljyOyr"
      },
      "execution_count": null,
      "outputs": []
    },
    {
      "cell_type": "markdown",
      "source": [
        "authheader component"
      ],
      "metadata": {
        "id": "q4RPthOb1dYG"
      }
    },
    {
      "cell_type": "markdown",
      "source": [
        "authheader.component.css"
      ],
      "metadata": {
        "id": "ewaOlC3o1hA5"
      }
    },
    {
      "cell_type": "code",
      "source": [
        "#authheader{\n",
        "    display: grid;\n",
        "    flex-direction: row;\n",
        "    justify-content:center ;\n",
        "    padding-bottom: 3%;\n",
        "}\n",
        "\n",
        "#routelink{\n",
        "    display: flex;\n",
        "    flex-direction: row;\n",
        "    justify-content: space-between;\n",
        "    font-family: Georgia, serif;\n",
        "}\n",
        "\n",
        ".alink{\n",
        "    padding: 5%;\n",
        "    background: #e2dede;\n",
        "    border-radius: 5px;\n",
        "    color: white;\n",
        "    text-decoration: none;\n",
        "    background-color: #4f7aa9;\n",
        "}\n",
        "\n",
        ".alink:hover {\n",
        "    background-color: #0056b3;\n",
        "}\n",
        "\n",
        "h3{\n",
        "    font-size: 32px;\n",
        "}"
      ],
      "metadata": {
        "id": "ij10vozixLhy"
      },
      "execution_count": null,
      "outputs": []
    },
    {
      "cell_type": "markdown",
      "source": [
        "authorization.component.html"
      ],
      "metadata": {
        "id": "HYx5IweIxOPp"
      }
    },
    {
      "cell_type": "code",
      "source": [
        "<div id=\"authheader\">\n",
        "    <h3>Welcome to Vibely.</h3>\n",
        "    <div id=\"routelink\">\n",
        "        <a [routerLink]=\"['/login']\" routerLinkActive=\"router-link-active\" class=\"alink\">Sign In</a>\n",
        "        <a [routerLink]=\"['/register']\" routerLinkActive=\"router-link-active\" class=\"alink\">Sign Up</a>\n",
        "    </div>\n",
        "\n",
        "</div>\n"
      ],
      "metadata": {
        "id": "D19TqvrgxZWV"
      },
      "execution_count": null,
      "outputs": []
    },
    {
      "cell_type": "markdown",
      "source": [
        "login-page component"
      ],
      "metadata": {
        "id": "HkWwlSuzxaHx"
      }
    },
    {
      "cell_type": "markdown",
      "source": [
        "login-page.component.css"
      ],
      "metadata": {
        "id": "Nb5lqeHP148U"
      }
    },
    {
      "cell_type": "code",
      "source": [
        "#loginPage, #registerPage {\n",
        "    display: flex;\n",
        "    justify-content: center;\n",
        "    align-items: center;\n",
        "    height: 100vh;\n",
        "}\n",
        "\n",
        "#loginElements, #registerElements {\n",
        "    background-color: white;\n",
        "    padding: 30px;\n",
        "    width: 350px;\n",
        "    border-radius: 10px;\n",
        "    box-shadow: 0px 4px 10px rgba(0, 0, 0, 0.1);\n",
        "    text-align: center;\n",
        "}\n",
        "\n",
        "h3 {\n",
        "    font-size: 22px;\n",
        "    font-weight: bold;\n",
        "    color: #333;\n",
        "    margin-bottom: 15px;\n",
        "}\n",
        "\n",
        "label {\n",
        "    font-size: 16px;\n",
        "    font-weight: 600;\n",
        "    color: #555;\n",
        "    display: block;\n",
        "    text-align: left;\n",
        "}\n",
        "\n",
        "button {\n",
        "    width: 100%;\n",
        "    margin-top: 15px;\n",
        "}\n"
      ],
      "metadata": {
        "id": "sTm2Gp1_xfLO"
      },
      "execution_count": null,
      "outputs": []
    },
    {
      "cell_type": "markdown",
      "source": [
        "login-page.component.html"
      ],
      "metadata": {
        "id": "bC3kTVfoxpSJ"
      }
    },
    {
      "cell_type": "code",
      "source": [
        "<div id=\"loginPage\">\n",
        "    <div id=\"loginElements\">\n",
        "        <h3>Login:</h3>\n",
        "\n",
        "        <label for=\"username\">Username:</label>\n",
        "        <input type=\"text\" id=\"username\" required [(ngModel)]=\"username\">\n",
        "\n",
        "        <label for=\"password\">Password:</label>\n",
        "        <input type=\"password\" id=\"password\" required [(ngModel)]=\"password\">\n",
        "\n",
        "        <button type=\"submit\" (click)=\"login()\">Login</button>\n",
        "    </div>\n",
        "</div>\n"
      ],
      "metadata": {
        "id": "gzvGuI-Cxrcg"
      },
      "execution_count": null,
      "outputs": []
    },
    {
      "cell_type": "markdown",
      "source": [
        "login-page.component.ts"
      ],
      "metadata": {
        "id": "NsEQsAOGxwKo"
      }
    },
    {
      "cell_type": "code",
      "source": [
        "import { Component, EventEmitter, Output } from '@angular/core';\n",
        "import { Router } from '@angular/router';\n",
        "import { AuthorizationService } from '../services/authorization/authorization.service';\n",
        "\n",
        "@Component({\n",
        "  selector: 'app-login-page',\n",
        "  standalone: false,\n",
        "\n",
        "  templateUrl: './login-page.component.html',\n",
        "  styleUrls: ['./login-page.component.css']\n",
        "})\n",
        "export class LoginPageComponent {\n",
        "  username = '';\n",
        "  password = '';\n",
        "  bio ='';\n",
        "  name='';\n",
        "  following=0;\n",
        "  followers=0;\n",
        "  posts=0;\n",
        "\n",
        "  constructor(private authorizationService:AuthorizationService,private router:Router){}\n",
        "\n",
        "  login() {\n",
        "    console.log(this.username);\n",
        "    console.log(this.password);\n",
        "\n",
        "    // Store in localStorage\n",
        "    const userProfile = {\n",
        "      username: this.username,\n",
        "      name: this.name,\n",
        "      bio: this.bio,\n",
        "      followers: this.followers,\n",
        "      following: this.following,\n",
        "      posts: this.posts\n",
        "    };\n",
        "    localStorage.setItem('userProfile', JSON.stringify(userProfile));\n",
        "\n",
        "    // Navigate to profile page\n",
        "    this.router.navigate(['/profile']);\n",
        "  }\n",
        "\n",
        "}\n",
        "\n"
      ],
      "metadata": {
        "id": "Rl-XI5nNxx-T"
      },
      "execution_count": null,
      "outputs": []
    },
    {
      "cell_type": "markdown",
      "source": [
        "register-page.component"
      ],
      "metadata": {
        "id": "Cf-rjM5Vx2ek"
      }
    },
    {
      "cell_type": "markdown",
      "source": [
        "register-page.component.css"
      ],
      "metadata": {
        "id": "ZUuPnhz8x8r5"
      }
    },
    {
      "cell_type": "code",
      "source": [
        "#loginPage, #registerPage {\n",
        "    display: flex;\n",
        "    justify-content: center;\n",
        "    align-items: center;\n",
        "    height: 100vh;\n",
        "}\n",
        "\n",
        "#loginElements, #registerElements {\n",
        "    background-color: white;\n",
        "    padding: 30px;\n",
        "    width: 350px;\n",
        "    border-radius: 10px;\n",
        "    box-shadow: 0px 4px 10px rgba(0, 0, 0, 0.1);\n",
        "    text-align: center;\n",
        "}\n",
        "\n",
        "h3 {\n",
        "    font-size: 22px;\n",
        "    font-weight: bold;\n",
        "    color: #333;\n",
        "    margin-bottom: 15px;\n",
        "}\n",
        "\n",
        "label {\n",
        "    font-size: 16px;\n",
        "    font-weight: 600;\n",
        "    color: #555;\n",
        "    display: block;\n",
        "    text-align: left;\n",
        "}\n",
        "\n",
        "button {\n",
        "    width: 100%;\n",
        "    margin-top: 15px;\n",
        "}\n"
      ],
      "metadata": {
        "id": "0fgFBENTx56i"
      },
      "execution_count": null,
      "outputs": []
    },
    {
      "cell_type": "markdown",
      "source": [
        "register-page.component.html"
      ],
      "metadata": {
        "id": "4fqg9B73x_-T"
      }
    },
    {
      "cell_type": "code",
      "source": [
        "<div id=\"registerPage\">\n",
        "    <div id=\"registerElements\" *ngIf=\"registerValue\">\n",
        "        <h3>Register:</h3>\n",
        "\n",
        "        <label for=\"username\">Username:</label>\n",
        "        <input type=\"text\" id=\"username\" required [(ngModel)]=\"username\">\n",
        "\n",
        "        <label for=\"password\">Password:</label>\n",
        "        <input type=\"text\" id=\"password\" required [(ngModel)]=\"password\">\n",
        "\n",
        "        <label for=\"email\">Email:</label>\n",
        "        <input type=\"text\" id=\"email\" required [(ngModel)]=\"email\">\n",
        "\n",
        "        <button type=\"submit\" (click)=\"register()\">Register</button>\n",
        "    </div>\n",
        "    <!-- <div id=\"afterregister\" *ngIf=\"!registerValue\">\n",
        "        <p>Registered Successfully</p>;\n",
        "        <app-loginPage></app-loginPage>\n",
        "    </div> -->\n",
        "</div>\n"
      ],
      "metadata": {
        "id": "txnd0VOqyB34"
      },
      "execution_count": null,
      "outputs": []
    },
    {
      "cell_type": "markdown",
      "source": [
        "register-page.component.ts"
      ],
      "metadata": {
        "id": "5DtHi_yRyEaP"
      }
    },
    {
      "cell_type": "code",
      "source": [
        "import { Component } from '@angular/core';\n",
        "// import { AuthorizationService } from '../services/authorization/authorization.service';private authorizationService: AuthorizationService\n",
        "import { Route, Router } from '@angular/router';\n",
        "\n",
        "@Component({\n",
        "  selector: 'app-register-page',\n",
        "  standalone: false,\n",
        "\n",
        "  templateUrl: './register-page.component.html',\n",
        "  styleUrls: ['./register-page.component.css']\n",
        "})\n",
        "export class RegisterPageComponent {\n",
        "  username:string ='';\n",
        "  password:string ='';\n",
        "  email:string='';\n",
        "  registerValue:boolean=true;\n",
        "\n",
        "  constructor(private router:Router){}\n",
        "  register(){\n",
        "    // this.authorizationService.login(this.username)\n",
        "    //   .subscribe((data)=>{\n",
        "    //     console.log(\"Successfully Registered\");\n",
        "    //   });\n",
        "    this.router.navigate(['/login']);\n",
        "  }\n",
        "\n",
        "}\n"
      ],
      "metadata": {
        "id": "zMwRMHguyGWW"
      },
      "execution_count": null,
      "outputs": []
    },
    {
      "cell_type": "markdown",
      "source": [
        "profile.component"
      ],
      "metadata": {
        "id": "eebyz0z3iiOm"
      }
    },
    {
      "cell_type": "markdown",
      "source": [
        "profile.component.css"
      ],
      "metadata": {
        "id": "7KjX2vs0y7X3"
      }
    },
    {
      "cell_type": "code",
      "source": [
        "#navbar{\n",
        "    display: flex;\n",
        "    justify-content: space-between;\n",
        "    align-items: center;\n",
        "    border-bottom: 2px solid rgb(204, 233, 248);\n",
        "    box-shadow: 0px 4px 6px rgba(135, 188, 215, 0.5);\n",
        "    height: 5%;\n",
        "    padding: 0% 2%;\n",
        "}\n",
        "\n",
        "#navbar button{\n",
        "    border-radius: 5px;\n",
        "}\n",
        "\n",
        "#maindiv{\n",
        "    display: flex;\n",
        "    height: 95%;\n",
        "}\n",
        "\n",
        "#buttons{\n",
        "    display: grid;\n",
        "    padding-top: 20%;\n",
        "    padding-right: 1%;\n",
        "    padding-left: 1% ;\n",
        "    padding-bottom: 20%;\n",
        "    width: 10%;\n",
        "    border-bottom: 2px solid rgb(204, 233, 248);\n",
        "    box-shadow: 0px 4px 6px rgba(135, 188, 215, 0.5);\n",
        "}\n",
        "\n",
        "#buttons button{\n",
        "    margin: 5%;\n",
        "}\n",
        "\n",
        "#profile{\n",
        "    padding: 3%;\n",
        "    width:90%\n",
        "}\n",
        "\n",
        "#profile_details{\n",
        "    display: flex;\n",
        "    padding-top: 6px;\n",
        "    padding-left: 4px;\n",
        "    padding-right: 4px;\n",
        "    padding-bottom: 4px;\n",
        "    width: 30%;\n",
        "}\n",
        "\n",
        "#profile_picture{\n",
        "    width: 40%;\n",
        "}\n",
        "\n",
        "\n",
        "#profile_picture img,i{\n",
        "    height: 60px;\n",
        "    width: 60px;\n",
        "    display: inline-flex;\n",
        "    align-items: center;\n",
        "    justify-content: center;\n",
        "    border: 2px solid rgb(118, 155, 173);\n",
        "    border-radius: 50%;\n",
        "}\n",
        "\n",
        "#profile_picture p{\n",
        "    font-size: small;\n",
        "}\n",
        "\n",
        "#countdetails{\n",
        "    display: grid;\n",
        "    width: 60%;\n",
        "}\n",
        "\n",
        "#count{\n",
        "    display: flex;\n",
        "    padding-left: 5%;\n",
        "    height: 30px;\n",
        "    margin-bottom: 20%;\n",
        "}\n",
        "\n",
        "#post_button{\n",
        "    display: flex;\n",
        "    justify-content: center;\n",
        "    margin-top: 10%;\n",
        "}\n",
        "\n",
        "#followers{\n",
        "    padding: 0% 5%;\n",
        "\n",
        "}\n",
        "\n",
        "#following{\n",
        "    padding: 0% 5%;\n",
        "}\n",
        "\n",
        "#posts{\n",
        "    padding: 0% 5%;\n",
        "}\n",
        "\n",
        "#post{\n",
        "    padding:5%;\n",
        "    display: grid;\n",
        "    grid-template-columns: repeat(3, 1fr);  /* 3 equal-width columns */\n",
        "    gap: 16px;  /* Space between posts */\n",
        "    padding: 10px;\n",
        "}\n",
        "\n",
        "#listofposts{\n",
        "    width:30%;\n",
        "    padding: 5px;\n",
        "}\n",
        "\n",
        ".post-image{\n",
        "    height: 250px;\n",
        "    width: 250px;\n",
        "}\n",
        "\n",
        "\n"
      ],
      "metadata": {
        "id": "ocNJdyuNy9JO"
      },
      "execution_count": null,
      "outputs": []
    },
    {
      "cell_type": "markdown",
      "source": [
        "profile.component.html"
      ],
      "metadata": {
        "id": "dzKvuQMsil9L"
      }
    },
    {
      "cell_type": "code",
      "source": [
        "<div id=\"navbar\">\n",
        "    <h4>{{username}}</h4>\n",
        "    <button (click)=\"editprofile()\">Edit Profile</button>\n",
        "</div>\n",
        "<div id=\"maindiv\">\n",
        "    <div id=\"buttons\">\n",
        "        <button>Home</button>\n",
        "        <button>Search</button>\n",
        "        <button (click)=\"profileButton()\">profile</button>\n",
        "    </div>\n",
        "    <div id=\"profile\">\n",
        "        <div id=\"profile_details\">\n",
        "            <div id=\"profile_picture\">\n",
        "                <img *ngIf=\"profilePic\" [src]=\"profilePic\" alt=\"Profile Picture\">\n",
        "                <i *ngIf=\"!profilePic\" class=\"fa-solid fa-user default-icon\"></i>\n",
        "                <p><b>{{name}}</b></p>\n",
        "                <p>{{bio}}</p>\n",
        "            </div>\n",
        "            <div id=\"countdetails\">\n",
        "                <div id=\"count\">\n",
        "                    <div id=\"followers\">\n",
        "                        <p>{{followers}}</p>\n",
        "                        <p>followers</p>\n",
        "                    </div>\n",
        "                    <div id=\"following\">\n",
        "                        <p>{{following}}</p>\n",
        "                        <p>following</p>\n",
        "                    </div>\n",
        "                    <div id=\"posts\">\n",
        "                        <p>{{posts}}</p>\n",
        "                        <p>posts</p>\n",
        "                    </div>\n",
        "                </div>\n",
        "                <div id=\"post_button\">\n",
        "                    <button (click)=\"addPost()\">Add Posts</button>\n",
        "                </div>\n",
        "            </div>\n",
        "        </div>\n",
        "        <div id=\"post\">\n",
        "            <div *ngFor=\"let post of userPosts\" id=\"listofposts\">\n",
        "                <img [src]=\"post.image\" class=\"post-image\">\n",
        "                <p>{{ post.caption }}</p>\n",
        "            </div>\n",
        "        </div>\n",
        "    </div>\n",
        "</div>\n",
        "\n"
      ],
      "metadata": {
        "id": "fErc8TOEipvA"
      },
      "execution_count": null,
      "outputs": []
    },
    {
      "cell_type": "markdown",
      "source": [
        "profile.component.ts"
      ],
      "metadata": {
        "id": "r3_SEHw6ioF2"
      }
    },
    {
      "cell_type": "code",
      "source": [
        "import { CommonModule } from '@angular/common';\n",
        "import { Component } from '@angular/core';\n",
        "import { Router, RouterLink } from '@angular/router';\n",
        "import { AddPostService } from '../services/AddPost/add-post.service';\n",
        "// RouterLink\n",
        "\n",
        "@Component({\n",
        "  selector: 'app-profile',\n",
        "  standalone: true,\n",
        "  imports:[CommonModule],\n",
        "  templateUrl: './profile.component.html',\n",
        "  styleUrls: ['./profile.component.css']\n",
        "})\n",
        "export class ProfileComponent {\n",
        "  username: string = '';\n",
        "  name: string = '';\n",
        "  bio: string = '';\n",
        "  followers: number;\n",
        "  following: number;\n",
        "  posts: number;\n",
        "  profilePic: string | null = null;\n",
        "  userPosts: any[] = [];\n",
        "\n",
        "  constructor(private router: Router,private addPostService: AddPostService) {\n",
        "    const storedProfile = JSON.parse(localStorage.getItem('userProfile') || '{}');\n",
        "    this.username = storedProfile.username || '';\n",
        "    this.name = storedProfile.name || '';\n",
        "    this.bio = storedProfile.bio || '';\n",
        "    this.followers = storedProfile.followers || 0;\n",
        "    this.following = storedProfile.following || 0;\n",
        "    this.posts = storedProfile.posts || 0;\n",
        "    this.profilePic = storedProfile.profilePic;\n",
        "  }\n",
        "\n",
        "  ngOnInit() {\n",
        "    this.userPosts = this.addPostService.getPosts();\n",
        "    this.posts = this.userPosts.length;\n",
        "  }\n",
        "\n",
        "  editprofile(){\n",
        "    this.router.navigate(['/editprofile']);\n",
        "  }\n",
        "\n",
        "  addPost(){\n",
        "    this.router.navigate(['/addpost']);\n",
        "  }\n",
        "\n",
        "  profileButton(){\n",
        "    this.router.navigate(['/profile']);\n",
        "    console.log(\"you have redirected to profile page\");\n",
        "  }\n",
        "}\n"
      ],
      "metadata": {
        "id": "99gAY4hQiukc"
      },
      "execution_count": null,
      "outputs": []
    },
    {
      "cell_type": "markdown",
      "source": [
        "edit-profile.compoent"
      ],
      "metadata": {
        "id": "Y4sg7Q1GzItE"
      }
    },
    {
      "cell_type": "markdown",
      "source": [
        "edit-profile.compoent.css"
      ],
      "metadata": {
        "id": "iM6w22G0zMdl"
      }
    },
    {
      "cell_type": "code",
      "source": [
        "#edit-profile {\n",
        "  text-align: center;\n",
        "}\n",
        "\n",
        ".profile-pic {\n",
        "  width: 150px;\n",
        "  height: 150px;\n",
        "  border-radius: 50%;\n",
        "  object-fit: cover;\n",
        "  margin-bottom: 10px;\n",
        "}\n",
        "\n",
        "#preview{\n",
        "  width: 300px;\n",
        "  height: 300px;\n",
        "}\n",
        "\n",
        "#file{\n",
        "  border: none;\n",
        "  background-color: #4f7aa9; ;\n",
        "  color: white;\n",
        "  width: 15%;\n",
        "}\n",
        "\n",
        "input, textarea {\n",
        "  display: block;\n",
        "  margin: 10px auto;\n",
        "  width: 50%;\n",
        "}\n",
        "\n",
        "button {\n",
        "  margin-bottom: 2%;\n",
        "}\n",
        ""
      ],
      "metadata": {
        "id": "hMaD7JgOzNtr"
      },
      "execution_count": null,
      "outputs": []
    },
    {
      "cell_type": "markdown",
      "source": [
        "edit-profile.compoent.html"
      ],
      "metadata": {
        "id": "eZJHrhEhzO_c"
      }
    },
    {
      "cell_type": "code",
      "source": [
        "<div id=\"edit-profile\">\n",
        "    <h2>Edit Profile</h2>\n",
        "\n",
        "    <div id=\"profile-picture\">\n",
        "        <img *ngIf=\"previewUrl || profilePic\" [src]=\"previewUrl || profilePic\" alt=\"Profile Picture\" id=\"preview\">\n",
        "        <input type=\"file\" (change)=\"onfileselect($event)\" accept=\"image/*\" id=\"file\">\n",
        "        <button (click)=\"removeProfile()\">Remove Profile</button>\n",
        "    </div>\n",
        "\n",
        "    <label>Name:</label>\n",
        "    <input type=\"text\" [(ngModel)]=\"name\">\n",
        "\n",
        "    <label>Bio:</label>\n",
        "    <textarea [(ngModel)]=\"bio\"></textarea>\n",
        "\n",
        "    <button (click)=\"saveChanges()\">Save Changes</button>\n",
        "</div>\n",
        "\n"
      ],
      "metadata": {
        "id": "RSuJKaVDzQdD"
      },
      "execution_count": null,
      "outputs": []
    },
    {
      "cell_type": "markdown",
      "source": [
        "edit-profile.compoent.ts"
      ],
      "metadata": {
        "id": "QI2NVLwpzWGK"
      }
    },
    {
      "cell_type": "code",
      "source": [
        "import { CommonModule } from '@angular/common';\n",
        "import { Component } from '@angular/core';\n",
        "import { FormsModule } from '@angular/forms';\n",
        "import { Router } from '@angular/router';\n",
        "\n",
        "@Component({\n",
        "  selector: 'app-edit-profile',\n",
        "  imports: [FormsModule,CommonModule],\n",
        "  templateUrl: './edit-profile.component.html',\n",
        "  styleUrls: ['./edit-profile.component.css']\n",
        "})\n",
        "export class EditProfileComponent {\n",
        "  profilePic: string | null = \"C:/Users/gsrija/Desktop/demoAngular/images/profile_picture.jpg\";\n",
        "  previewUrl: string | ArrayBuffer | null = null;\n",
        "  name: string;\n",
        "  bio: string;\n",
        "\n",
        "  constructor(private router: Router) {\n",
        "    const storedProfile = JSON.parse(localStorage.getItem('userProfile') || '{}');\n",
        "    this.name = storedProfile.name || '';\n",
        "    this.bio = storedProfile.bio || '';\n",
        "    this.profilePic = storedProfile.profilePic || this.profilePic;\n",
        "  }\n",
        "\n",
        "  onfileselect(e: any){\n",
        "    if(e.target.files[0]){\n",
        "      var reader = new FileReader();\n",
        "      reader.readAsDataURL(e.target.files[0]);\n",
        "      reader.onload = (event:any)=>{\n",
        "        this.profilePic = event.target.result;\n",
        "      }\n",
        "      reader.onload = (event: any) => {\n",
        "        this.previewUrl = event.target.result;\n",
        "      };\n",
        "\n",
        "    }\n",
        "  }\n",
        "\n",
        "saveChanges() {\n",
        "  console.log(this.profilePic);\n",
        "\n",
        "  // Retrieve the current username from localStorage or from state (if available)\n",
        "  const storedProfile = JSON.parse(localStorage.getItem('userProfile') || '{}');\n",
        "  const username = storedProfile.username; // Add this to get the username\n",
        "\n",
        "  const updatedProfile = {\n",
        "    username: username,\n",
        "    name: this.name,\n",
        "    bio: this.bio,\n",
        "    profilePic: this.previewUrl || this.profilePic\n",
        "  };\n",
        "\n",
        "  // Save the updated profile to localStorage\n",
        "  localStorage.setItem('userProfile', JSON.stringify(updatedProfile));\n",
        "\n",
        "  // Navigate back to profile page\n",
        "  this.router.navigate(['/profile']);\n",
        "}\n",
        "\n",
        "\n",
        "\n",
        "  removeProfile() {\n",
        "    this.profilePic = null;\n",
        "    const updatedProfile = {\n",
        "      name: this.name,\n",
        "      bio: this.bio,\n",
        "      profilePic: this.profilePic\n",
        "    };\n",
        "    localStorage.setItem('userProfile', JSON.stringify(updatedProfile));\n",
        "  }\n",
        "\n",
        "}\n"
      ],
      "metadata": {
        "id": "lTN-SVatzWl4"
      },
      "execution_count": null,
      "outputs": []
    },
    {
      "cell_type": "markdown",
      "source": [
        "add-post.component"
      ],
      "metadata": {
        "id": "v8v5GA6BzeAO"
      }
    },
    {
      "cell_type": "markdown",
      "source": [
        "add-post.component.css"
      ],
      "metadata": {
        "id": "BEbfSgWlzfu7"
      }
    },
    {
      "cell_type": "code",
      "source": [
        "#addpost{\n",
        "    display: flex;\n",
        "    flex-direction: column;\n",
        "    padding: 2%;\n",
        "    align-items: center;\n",
        "}\n",
        "\n",
        "input,textarea{\n",
        "    width: 50%;\n",
        "    margin: 1%;\n",
        "    border: none;\n",
        "}\n",
        "\n",
        "button{\n",
        "    width:10%\n",
        "}"
      ],
      "metadata": {
        "id": "l2Tu4k0Hzm8p"
      },
      "execution_count": null,
      "outputs": []
    },
    {
      "cell_type": "markdown",
      "source": [
        "add-post.component.html"
      ],
      "metadata": {
        "id": "MMDSwQiQzjT5"
      }
    },
    {
      "cell_type": "code",
      "source": [
        "<div id=\"addpost\">\n",
        "    <h2>Add Post</h2>\n",
        "    <input type=\"file\" (change)=\"onFileSelected($event)\">\n",
        "    <div *ngIf=\"previewImage\">\n",
        "        <img [src]=\"previewImage\" class=\"preview\">\n",
        "    </div>\n",
        "    <textarea [(ngModel)]=\"caption\" placeholder=\"Enter caption\"></textarea>\n",
        "    <button (click)=\"submitPost()\">Add Post</button>\n",
        "</div>\n"
      ],
      "metadata": {
        "id": "hji6-Y0lzp7f"
      },
      "execution_count": null,
      "outputs": []
    },
    {
      "cell_type": "markdown",
      "source": [
        "add-post.component.ts"
      ],
      "metadata": {
        "id": "f04JHM7izkP-"
      }
    },
    {
      "cell_type": "code",
      "source": [
        "import { Component } from '@angular/core';\n",
        "import { Router } from '@angular/router';\n",
        "import { AddPostService } from '../services/AddPost/add-post.service';\n",
        "\n",
        "@Component({\n",
        "  selector: 'app-add-post',\n",
        "  standalone: false,\n",
        "\n",
        "  templateUrl: './add-post.component.html',\n",
        "  styleUrl: './add-post.component.css'\n",
        "})\n",
        "export class AddPostComponent {\n",
        "\n",
        "  previewImage: string | ArrayBuffer | null = null;;\n",
        "  caption:string = '';\n",
        "\n",
        "  constructor(private router:Router,private addpostService:AddPostService){}\n",
        "\n",
        "  onFileSelected(e:any){\n",
        "    if(e.target.files[0]){\n",
        "      var reader = new FileReader();\n",
        "      reader.readAsDataURL(e.target.files[0]);\n",
        "      reader.onload = (event:any)=>{\n",
        "        this.previewImage = event.target.result;\n",
        "      }\n",
        "    }\n",
        "  }\n",
        "\n",
        "  submitPost(){\n",
        "    if (this.previewImage) {\n",
        "      this.addpostService.addPost({ image: this.previewImage, caption: this.caption });\n",
        "      this.router.navigate(['/profile']); // Navigate back to profile\n",
        "    }\n",
        "  }\n",
        "}\n"
      ],
      "metadata": {
        "id": "fr-6rbEwzsQH"
      },
      "execution_count": null,
      "outputs": []
    },
    {
      "cell_type": "markdown",
      "source": [
        "style.css"
      ],
      "metadata": {
        "id": "2L0TjQRCzxE-"
      }
    },
    {
      "cell_type": "code",
      "source": [
        "/* You can add global styles to this file, and also import other style files */\n",
        "/* Global Styling */\n",
        "body {\n",
        "    font-family: 'Poppins', sans-serif;\n",
        "    background-color: #c7e2f8;\n",
        "    color: #333;\n",
        "    margin: 0;\n",
        "    padding: 0;\n",
        "}\n",
        "\n",
        "* {\n",
        "    font-family: 'Georgia', serif;\n",
        "  }\n",
        "\n",
        "/* Buttons */\n",
        "button {\n",
        "    background-color: #4f7aa9;\n",
        "    color: white;\n",
        "    border: none;\n",
        "    padding: 10px 15px;\n",
        "    border-radius: 5px;\n",
        "    cursor: pointer;\n",
        "    transition: 0.3s ease-in-out;\n",
        "    font-weight: bold;\n",
        "}\n",
        "\n",
        "button:hover {\n",
        "    background-color: #0056b3;\n",
        "}\n",
        "\n",
        "/* Input Fields */\n",
        "input, textarea {\n",
        "    padding: 10px;\n",
        "    border: 1px solid #ccc;\n",
        "    border-radius: 5px;\n",
        "    width: 90%;\n",
        "    margin-top: 5px;\n",
        "    font-size: 14px;\n",
        "}\n",
        "\n",
        "/* Centered Sections */\n",
        ".center-container {\n",
        "    display: flex;\n",
        "    justify-content: center;\n",
        "    align-items: center;\n",
        "    height: 100vh;\n",
        "}\n"
      ],
      "metadata": {
        "id": "28lTQ0E1zyBV"
      },
      "execution_count": null,
      "outputs": []
    },
    {
      "cell_type": "markdown",
      "source": [
        "index.html"
      ],
      "metadata": {
        "id": "YJ4RVadpzytU"
      }
    },
    {
      "cell_type": "code",
      "source": [
        "<!doctype html>\n",
        "<html lang=\"en\">\n",
        "<head>\n",
        "  <meta charset=\"utf-8\">\n",
        "  <title font-family: Georgia, serif;>&#x270C;Vibely</title>\n",
        "  <base href=\"/\">\n",
        "  <meta name=\"viewport\" content=\"width=device-width, initial-scale=1\">\n",
        "  <link rel=\"icon\" type=\"image/x-icon\" href=\"favicon.ico\">\n",
        "  <link rel=\"stylesheet\" href=\"https://cdnjs.cloudflare.com/ajax/libs/font-awesome/6.7.2/css/all.min.css\" integrity=\"sha512-Evv84Mr4kqVGRNSgIGL/F/aIDqQb7xQ2vcrdIwxfjThSH8CSR7PBEakCr51Ck+w+/U6swU2Im1vVX0SVk9ABhg==\" crossorigin=\"anonymous\" referrerpolicy=\"no-referrer\" />\n",
        "</head>\n",
        "<body>\n",
        "  <app-root></app-root>\n",
        "</body>\n",
        "</html>\n"
      ],
      "metadata": {
        "id": "JYLmKgZWzzt5"
      },
      "execution_count": null,
      "outputs": []
    }
  ],
  "metadata": {
    "colab": {
      "name": "Welcome To Colab",
      "toc_visible": true,
      "provenance": [],
      "include_colab_link": true
    },
    "kernelspec": {
      "display_name": "Python 3",
      "name": "python3"
    }
  },
  "nbformat": 4,
  "nbformat_minor": 0
}