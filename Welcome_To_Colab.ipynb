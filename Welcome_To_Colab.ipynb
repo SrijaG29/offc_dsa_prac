{
  "cells": [
    {
      "cell_type": "markdown",
      "metadata": {
        "id": "view-in-github",
        "colab_type": "text"
      },
      "source": [
        "<a href=\"https://colab.research.google.com/github/SrijaG29/offc_dsa_prac/blob/main/Welcome_To_Colab.ipynb\" target=\"_parent\"><img src=\"https://colab.research.google.com/assets/colab-badge.svg\" alt=\"Open In Colab\"/></a>"
      ]
    },
    {
      "cell_type": "markdown",
      "source": [
        "total no of sub arrays which sum up to k."
      ],
      "metadata": {
        "id": "MbeuKXF53Yun"
      }
    },
    {
      "cell_type": "code",
      "source": [
        "import java.util.ArrayList;\n",
        "import java.util.HashMap;\n",
        "\n",
        "public class totalSubarrayEqualToK {\n",
        "    public static void main(String[] args){\n",
        "        int[] arr = {1,-1,0};\n",
        "        int k = 0;\n",
        "        int count = 0;\n",
        "        HashMap<Integer, Integer> prefixSumCount = new HashMap<>();\n",
        "        int sum = 0;\n",
        "        prefixSumCount.put(0, 1);\n",
        "        for (int i = 0; i < arr.length; i++) {\n",
        "            sum += arr[i];\n",
        "            if (prefixSumCount.containsKey(sum - k)) {\n",
        "                count += prefixSumCount.get(sum - k);\n",
        "            }\n",
        "            prefixSumCount.put(sum, prefixSumCount.getOrDefault(sum, 0) + 1);\n",
        "        }\n",
        "        System.out.println(count);\n",
        "    }\n",
        "}\n",
        "\n"
      ],
      "metadata": {
        "id": "KRcfz20K3Zt2"
      },
      "execution_count": null,
      "outputs": []
    }
  ],
  "metadata": {
    "colab": {
      "name": "Welcome To Colab",
      "toc_visible": true,
      "provenance": [],
      "include_colab_link": true
    },
    "kernelspec": {
      "display_name": "Python 3",
      "name": "python3"
    }
  },
  "nbformat": 4,
  "nbformat_minor": 0
}