{
  "cells": [
    {
      "cell_type": "markdown",
      "metadata": {
        "id": "view-in-github",
        "colab_type": "text"
      },
      "source": [
        "<a href=\"https://colab.research.google.com/github/SrijaG29/offc_dsa_prac/blob/main/bubbleSort.ipynb\" target=\"_parent\"><img src=\"https://colab.research.google.com/assets/colab-badge.svg\" alt=\"Open In Colab\"/></a>"
      ]
    },
    {
      "cell_type": "code",
      "source": [
        "import java.util.Arrays;\n",
        "\n",
        "public class bubbleSort {\n",
        "    public static void main(String[] args){\n",
        "        int[] nums = {64,10,6,29,11};\n",
        "        int n = nums.length;\n",
        "        int i,j,temp;\n",
        "        boolean swapped;\n",
        "        for(i=0;i<n-1;i++){\n",
        "            swapped = false;\n",
        "            for(j=0;j<n-i-1;j++){\n",
        "                if(nums[j]>nums[j+1]){\n",
        "                    temp = nums[j];\n",
        "                    nums[j] = nums[j+1];\n",
        "                    nums[j+1] = temp;\n",
        "                    swapped = true;\n",
        "                }\n",
        "            }\n",
        "            if(swapped == false){\n",
        "                break;\n",
        "            }\n",
        "        }\n",
        "        System.out.println(Arrays.toString(nums));\n",
        "    }\n",
        "}\n"
      ],
      "metadata": {
        "id": "7h9NoDP43_Fz"
      },
      "execution_count": null,
      "outputs": []
    }
  ],
  "metadata": {
    "colab": {
      "name": "Welcome To Colab",
      "toc_visible": true,
      "provenance": [],
      "include_colab_link": true
    },
    "kernelspec": {
      "display_name": "Python 3",
      "name": "python3"
    }
  },
  "nbformat": 4,
  "nbformat_minor": 0
}