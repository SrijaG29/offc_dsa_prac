{
  "cells": [
    {
      "cell_type": "markdown",
      "metadata": {
        "id": "view-in-github",
        "colab_type": "text"
      },
      "source": [
        "<a href=\"https://colab.research.google.com/github/SrijaG29/offc_dsa_prac/blob/main/Welcome_To_Colab.ipynb\" target=\"_parent\"><img src=\"https://colab.research.google.com/assets/colab-badge.svg\" alt=\"Open In Colab\"/></a>"
      ]
    },
    {
      "cell_type": "markdown",
      "source": [
        "total no of sub arrays which sum up to k."
      ],
      "metadata": {
        "id": "MbeuKXF53Yun"
      }
    },
    {
      "cell_type": "code",
      "source": [
        "import java.util.ArrayList;\n",
        "import java.util.HashMap;\n",
        "\n",
        "public class totalSubarrayEqualToK {\n",
        "    public static void main(String[] args){\n",
        "        int[] arr = {1,-1,0};\n",
        "        int k = 0;\n",
        "        int count = 0;\n",
        "        HashMap<Integer, Integer> prefixSumCount = new HashMap<>();\n",
        "        int sum = 0;\n",
        "        prefixSumCount.put(0, 1);\n",
        "        for (int i = 0; i < arr.length; i++) {\n",
        "            sum += arr[i];\n",
        "            if (prefixSumCount.containsKey(sum - k)) {\n",
        "                count += prefixSumCount.get(sum - k);\n",
        "            }\n",
        "            prefixSumCount.put(sum, prefixSumCount.getOrDefault(sum, 0) + 1);\n",
        "        }\n",
        "        System.out.println(count);\n",
        "    }\n",
        "}\n",
        "\n"
      ],
      "metadata": {
        "id": "KRcfz20K3Zt2"
      },
      "execution_count": null,
      "outputs": []
    },
    {
      "cell_type": "markdown",
      "source": [
        "Binary search"
      ],
      "metadata": {
        "id": "V5C8eF456NVi"
      }
    },
    {
      "cell_type": "code",
      "source": [
        "public class binarySearch {\n",
        "    public static void main(String[] args){\n",
        "        int[] nums = {-1,0,3,5,9,12};\n",
        "        int target = 9;\n",
        "        int left = 0;\n",
        "        int right = nums.length-1;\n",
        "        while(left <= right){\n",
        "            int mid = (left+right)/2;\n",
        "            if(nums[mid] == target){\n",
        "                System.out.println(\"Element found at index: \"+mid);\n",
        "                break;\n",
        "            }\n",
        "            else if(nums[mid]<target){\n",
        "                left = mid +1;\n",
        "            }\n",
        "            else{\n",
        "                right = mid-1;\n",
        "            }\n",
        "        }\n",
        "        System.out.println(\"Element no found\");\n",
        "    }\n",
        "\n",
        "}\n"
      ],
      "metadata": {
        "id": "KeLLJ_yL6MdI"
      },
      "execution_count": null,
      "outputs": []
    },
    {
      "cell_type": "markdown",
      "source": [
        "floor value\n"
      ],
      "metadata": {
        "id": "UmzHegdV-MTv"
      }
    },
    {
      "cell_type": "code",
      "source": [
        "public class floorOfK {\n",
        "    public static void main(String[] args) {\n",
        "        int[] nums = {1,2,4,10,11,12,19};\n",
        "        int left = 0;\n",
        "        int right = nums.length-1;\n",
        "        int target = 5;\n",
        "        int floorindex =-1;\n",
        "        while(left<=right){\n",
        "            int mid = (left + right)/2;\n",
        "            if(nums[mid]==target){\n",
        "                System.out.println(mid);\n",
        "                break;\n",
        "            } else if (nums[mid]<target) {\n",
        "                floorindex = mid;\n",
        "                left = mid +1;\n",
        "            }\n",
        "            else{\n",
        "                right = mid -1;\n",
        "            }\n",
        "        }\n",
        "        System.out.println(floorindex);\n",
        "    }\n",
        "}\n"
      ],
      "metadata": {
        "id": "_k0xrmsn-O4c"
      },
      "execution_count": null,
      "outputs": []
    },
    {
      "cell_type": "markdown",
      "source": [
        "ceil and floor value"
      ],
      "metadata": {
        "id": "jITSTFWWKCw9"
      }
    },
    {
      "cell_type": "code",
      "source": [
        "import java.util.Arrays;\n",
        "\n",
        "public class floorAndCielValueOFK {\n",
        "    public static void main(String[] args) {\n",
        "        int[] nums = {5, 6, 8, 9, 6, 5, 5, 6};\n",
        "        Arrays.sort(nums);\n",
        "        int left = 0;\n",
        "        int right = nums.length-1;\n",
        "        int target = 7;\n",
        "        int floorIndex =-1;\n",
        "        int ceilIndex = -1;\n",
        "        while(left<=right){\n",
        "            int mid = (left + right)/2;\n",
        "            if(nums[mid]==target){\n",
        "                System.out.println(mid);\n",
        "                break;\n",
        "            } else if (nums[mid]<target) {\n",
        "                floorIndex = nums[mid];\n",
        "                left = mid +1;\n",
        "            }\n",
        "            else{\n",
        "                ceilIndex = nums[mid];\n",
        "                right = mid -1;\n",
        "            }\n",
        "        }\n",
        "        System.out.println(floorIndex+\" \"+ceilIndex);\n",
        "    }\n",
        "}\n"
      ],
      "metadata": {
        "id": "erfpV1lzKFXI"
      },
      "execution_count": null,
      "outputs": []
    },
    {
      "cell_type": "markdown",
      "source": [
        "Html code"
      ],
      "metadata": {
        "id": "sUTn4bLNEeaK"
      }
    },
    {
      "cell_type": "code",
      "source": [
        "<!DOCTYPE html>\n",
        "<html lang=\"en\">\n",
        "<head>\n",
        "    <meta charset=\"UTF-8\">\n",
        "    <meta name=\"viewport\" content=\"width=device-width, initial-scale=1.0\">\n",
        "    <title>Document</title>\n",
        "    <link rel=\"stylesheet\" href=\"style.css\">\n",
        "</head>\n",
        "<body>\n",
        "    <div class=\"navbar\">\n",
        "        <img src=\"https://encrypted-tbn0.gstatic.com/images?q=tbn:ANd9GcRqV8qU3m3W7cqHR9zkcdtry3bP-rQGybA-sw&s\"\n",
        "        alt=\"Logo\" id=\"image\">\n",
        "        <h1 class=\"mainHeading\">Expenses Calculator!</h1>\n",
        "    </div>\n",
        "    <div class=\"expensesForm\">\n",
        "        <h3 class=\"heading\">Expenses Form</h3>\n",
        "        <form class=\"formElements\" onsubmit=\"getdetails(event)\">\n",
        "           <div class=\"select\">\n",
        "                <label for=\"expenseName\">Expense Name: </label>\n",
        "                <input type=\"text\" id=\"expenseName\" name=\"expenseName\" required>\n",
        "           </div>\n",
        "           <div class=\"select\">\n",
        "                <label for=\"options\">Select a category:</label>\n",
        "                <select id=\"options\">\n",
        "                    <option value=\"Select a Category\">Select a Category</option>\n",
        "                    <option value=\"Dressing\">Dressing</option>\n",
        "                    <option value=\"Food\">Food</option>\n",
        "                    <option value=\"Travel\">Travel</option>\n",
        "                    <option value=\"Other\">Other</option>\n",
        "                </select>\n",
        "            </div>\n",
        "            <div class=\"select\" id=\"otherInputContainer\"></div>\n",
        "            <div class=\"select\">\n",
        "                <label for=\"totalAmount\">Total Amount: </label>\n",
        "                <input type=\"number\" id=\"totalAmount\" name=\"totalAmount\" required>\n",
        "            </div>\n",
        "            <div class=\"select\">\n",
        "                <button type=\"submit\">Submit</button>\n",
        "            </div>\n",
        "        </form>\n",
        "    </div>\n",
        "    <div class=\"additionalDetails\">\n",
        "        <div class=\"filtering\">filtering</div>\n",
        "        <div class=\"categoryWiseExpenses\">Expenses</div>\n",
        "    </div>\n",
        "    <script src=\"actions.js\"></script>\n",
        "</body>\n",
        "</html>"
      ],
      "metadata": {
        "id": "g_yutpsMEfkq"
      },
      "execution_count": null,
      "outputs": []
    },
    {
      "cell_type": "markdown",
      "source": [
        "css code"
      ],
      "metadata": {
        "id": "OsGjiYupEiep"
      }
    },
    {
      "cell_type": "code",
      "source": [
        "body{\n",
        "    display: flex;\n",
        "    flex-direction: column;\n",
        "}\n",
        "\n",
        ".navbar{\n",
        "    height: 20%;\n",
        "    display: flex;\n",
        "    border-bottom: 2px solid black;\n",
        "    /* padding: 1%; */\n",
        "    justify-content: flex-start;\n",
        "    align-items: center;\n",
        "}\n",
        "\n",
        "#image{\n",
        "    height: 50px;\n",
        "    width: 100px;\n",
        "    border-radius: 5%;\n",
        "    padding-right: 2%;\n",
        "\n",
        "}\n",
        "\n",
        ".heading{\n",
        "    margin: 0;\n",
        "    padding-bottom: 1%;\n",
        "}\n",
        "\n",
        ".expensesForm{\n",
        "    height: 30%;\n",
        "    padding: 1%;\n",
        "    border-bottom: 2px solid black;\n",
        "}\n",
        "\n",
        ".formElements{\n",
        "    display: flex;\n",
        "    justify-content: space-between;\n",
        "}\n",
        ".select{\n",
        "    display: flex;\n",
        "    /* justify-content: center; */\n",
        "}\n",
        "\n",
        "#otherinput{\n",
        "    height: 5px;\n",
        "    border-width: 1px;\n",
        "    border-style: solid;\n",
        "    border-color: light-dark(rgb(118, 118, 118)),\n",
        "}\n",
        "\n",
        ".additionalDetails{\n",
        "    display: flex;\n",
        "}\n",
        "\n",
        ".filtering{\n",
        "    width: 50%;\n",
        "    border-right: 2px solid black;\n",
        "}\n",
        "\n",
        ".categoryWiseExpenses{\n",
        "    width: 50%;\n",
        "    border-right: 2px solid black;\n",
        "}\n"
      ],
      "metadata": {
        "id": "osEfjBnZElI8"
      },
      "execution_count": null,
      "outputs": []
    },
    {
      "cell_type": "markdown",
      "source": [
        "javascript"
      ],
      "metadata": {
        "id": "1CodAzRWEmGc"
      }
    },
    {
      "cell_type": "code",
      "source": [
        "// This is to take only aphabelts in expensename element\n",
        "let expenseNameInput = document.getElementById(\"expenseName\");\n",
        "expenseNameInput.addEventListener(\"input\", function(event) {\n",
        "            // Remove any non-alphabet characters\n",
        "    event.target.value = event.target.value.replace(/[^A-Za-z ]+/g, '');\n",
        "});\n",
        "\n",
        "\n",
        "let options = document.getElementById(\"options\");\n",
        "let newele;\n",
        "let newlabel;\n",
        "options.onchange = () => {\n",
        "    const container = document.getElementById(\"otherInputContainer\");\n",
        "    // Clear the container before adding new elements\n",
        "    container.innerHTML = '';\n",
        "    if (options.value === \"Other\") {\n",
        "        // Create and append a label\n",
        "        newlabel = document.createElement(\"label\");\n",
        "        newlabel.textContent = \"Other Category:\";\n",
        "        container.appendChild(newlabel);\n",
        "        // Create and append a textarea\n",
        "        newele = document.createElement(\"textarea\");\n",
        "        newele.setAttribute(\"id\",\"otherinput\")\n",
        "        // This is to take only aphabelts in otherinput textarea element\n",
        "        container.addEventListener(\"input\", function(event) {\n",
        "            // Remove any non-alphabet characters\n",
        "        event.target.value = event.target.value.replace(/[^A-Za-z ]+/g, '');\n",
        "        });\n",
        "        container.appendChild(newele);\n",
        "    }\n",
        "};\n",
        "\n",
        "function getdetails(event){\n",
        "    // event.preventDefault()\n",
        "    let category\n",
        "    if(document.getElementById(\"options\").value === \"Other\"){\n",
        "        category = document.getElementById(\"otherInputContainer\").querySelector(\"textarea\").value\n",
        "    }\n",
        "    else{\n",
        "        category = document.getElementById(\"options\").value\n",
        "    }\n",
        "    console.log(category)\n",
        "    let details = {\n",
        "        expenseName: document.getElementById(\"expenseName\").value,\n",
        "        category: category,\n",
        "        totalAmount: document.getElementById(\"totalAmount\").value\n",
        "    };\n",
        "    console.log(details)\n",
        "    localStorage.setItem(\"detail\", JSON.stringify(details));\n",
        "}\n",
        "\n",
        "\n",
        "\n",
        "\n"
      ],
      "metadata": {
        "id": "xkoxou9QEpim"
      },
      "execution_count": null,
      "outputs": []
    }
  ],
  "metadata": {
    "colab": {
      "name": "Welcome To Colab",
      "toc_visible": true,
      "provenance": [],
      "include_colab_link": true
    },
    "kernelspec": {
      "display_name": "Python 3",
      "name": "python3"
    }
  },
  "nbformat": 4,
  "nbformat_minor": 0
}