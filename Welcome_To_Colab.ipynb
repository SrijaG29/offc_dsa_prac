{
  "cells": [
    {
      "cell_type": "markdown",
      "metadata": {
        "id": "view-in-github",
        "colab_type": "text"
      },
      "source": [
        "<a href=\"https://colab.research.google.com/github/SrijaG29/offc_dsa_prac/blob/main/Welcome_To_Colab.ipynb\" target=\"_parent\"><img src=\"https://colab.research.google.com/assets/colab-badge.svg\" alt=\"Open In Colab\"/></a>"
      ]
    },
    {
      "cell_type": "code",
      "source": [
        "app.component.html"
      ],
      "metadata": {
        "id": "9LhP1W1P8e8j"
      },
      "execution_count": null,
      "outputs": []
    },
    {
      "cell_type": "code",
      "source": [
        "<div class=\"form-container\">\n",
        "  <h4 >Sample Form:</h4>\n",
        "  <form (ngSubmit)=\"onSubmit()\">\n",
        "    <div class=\"form-ele\">\n",
        "      <label for=\"name\">Name:</label>\n",
        "      <input type=\"text\" id=\"name\" required [(ngModel)]=\"name\" name=\"name\">\n",
        "    </div>\n",
        "    <div class=\"form-ele\">\n",
        "      <label for=\"email\">Email:</label>\n",
        "      <input type=\"text\" id=\"email\" required [(ngModel)]=\"email\" name=\"email\">\n",
        "    </div>\n",
        "    <div class=\"form-ele\">\n",
        "      <label for=\"message\">Message:</label>\n",
        "      <textarea id=\"message\" rows=\"4\" [(ngModel)]=\"message\" name=\"message\"  required></textarea>\n",
        "    </div>\n",
        "    <div class=\"form-ele\">\n",
        "      <button id=\"Submit\" >Submit</button>\n",
        "    </div>\n",
        "  </form>\n",
        "\n",
        "  <div id=\"container\" *ngIf=\"toShow\">\n",
        "    <app-messages *ngFor=\"let ele of messages; index as i\"\n",
        "                  [message]=\"ele\"\n",
        "                  [index]=\"i\"\n",
        "                  (del)=\"deleteMessage($event)\">\n",
        "    </app-messages>\n",
        "  </div>\n",
        "</div>\n"
      ],
      "metadata": {
        "id": "xB2ZqsnX8hWZ"
      },
      "execution_count": null,
      "outputs": []
    },
    {
      "cell_type": "markdown",
      "source": [
        "app.component.css"
      ],
      "metadata": {
        "id": "ge8cDiJ78eiq"
      }
    },
    {
      "cell_type": "code",
      "source": [
        "/*.form-container{\n",
        "  background-color: gray;\n",
        "  display: flex;\n",
        "  flex-direction: column;\n",
        "  margin: 10%;\n",
        "  width: 80%;\n",
        "  height: 80%;\n",
        "}*/\n",
        "\n",
        ".form-container {\n",
        "  max-width: 400px;\n",
        "  margin: auto;\n",
        "  padding: 20px;\n",
        "  border: 1px solid #ccc;\n",
        "  border-radius: 5px;\n",
        "  background-color: #f7f7f7;\n",
        "}\n",
        "\n",
        "h4{\n",
        "  text-align: center;\n",
        "}\n",
        "\n",
        ".form-ele{\n",
        "  display:flex;\n",
        "  padding:1%;\n",
        "  align-items:center;\n",
        "}\n",
        "\n",
        "#Submit{\n",
        "  background-color:green;\n",
        "}\n",
        "\n",
        "\n"
      ],
      "metadata": {
        "id": "GVzd9eRI8qNs"
      },
      "execution_count": null,
      "outputs": []
    },
    {
      "cell_type": "markdown",
      "source": [
        "app.component.ts"
      ],
      "metadata": {
        "id": "volflzZ38tat"
      }
    },
    {
      "cell_type": "code",
      "source": [
        "import { Component } from '@angular/core';\n",
        "import { RouterOutlet } from '@angular/router';\n",
        "import { FormsModule } from '@angular/forms';\n",
        "import { CommonModule } from '@angular/common';\n",
        "import { MessagesComponent } from './messages/messages.component';\n",
        "\n",
        "@Component({\n",
        "  selector: 'app-root',\n",
        "  standalone: true,\n",
        "  imports: [FormsModule,CommonModule, MessagesComponent],\n",
        "  templateUrl: './app.component.html',\n",
        "  styleUrls: ['./app.component.css']\n",
        "})\n",
        "export class AppComponent {\n",
        "  title = 'first-project-angular';\n",
        "  name:string='';\n",
        "  email:string='';\n",
        "  message:string='';\n",
        "  toShow:boolean = false;\n",
        "  messages:Array<any>=[];\n",
        "\n",
        "  onSubmit(){\n",
        "    this.toShow = true;\n",
        "    this.messages.push({\n",
        "      'name':this.name,\n",
        "      'email':this.email,\n",
        "      'message':this.message\n",
        "    })\n",
        "  }\n",
        "\n",
        "  deleteMessage(index: number){\n",
        "    this.messages.splice(index,1);\n",
        "  }\n",
        "\n",
        "}\n"
      ],
      "metadata": {
        "id": "zRepDbEc8vSo"
      },
      "execution_count": null,
      "outputs": []
    },
    {
      "cell_type": "markdown",
      "source": [
        "messages.component.html"
      ],
      "metadata": {
        "id": "pUUXhLFY8yJ6"
      }
    },
    {
      "cell_type": "code",
      "source": [
        "<!--<table id=\"table\" >-->\n",
        "<!--  <tr class=\"table-row\">-->\n",
        "<!--    <th>S.No</th>-->\n",
        "<!--    <th>Name</th>-->\n",
        "<!--    <th>Email</th>-->\n",
        "<!--    <th>Message</th>-->\n",
        "<!--  </tr>-->\n",
        "<!--  <tr class=\"table-row\" >-->\n",
        "<!--    <td>{{index+1}}</td>-->\n",
        "<!--    <td>{{message.name}}</td>-->\n",
        "<!--    <td>{{message.email}}</td>-->\n",
        "<!--    <td>{{message.message}}</td>-->\n",
        "<!--  </tr>-->\n",
        "<!--</table>-->\n",
        "<div class=\"message-details\">\n",
        "  <ul>\n",
        "    <li>Name: {{message.name}}</li>\n",
        "    <li>Email: {{message.email}}</li>\n",
        "    <li>Message: {{message.message}}</li>\n",
        "  </ul>\n",
        "  <button id=\"button\" (click)=\"onDelete()\">Delete</button>\n",
        "</div>\n"
      ],
      "metadata": {
        "id": "7vLUrlHo80Yo"
      },
      "execution_count": null,
      "outputs": []
    },
    {
      "cell_type": "markdown",
      "source": [
        "messages.component.css"
      ],
      "metadata": {
        "id": "AfjsBjGz84HN"
      }
    },
    {
      "cell_type": "code",
      "source": [
        "\n",
        "\n",
        ".message-details{\n",
        "   margin: 10px;\n",
        "   padding: 5px;\n",
        "   border: 1px solid #ccc;\n",
        "   background-color: #f7f7f7;\n",
        "   border-radius: 4px;\n",
        "   word-wrap: break-word;\n",
        "   white-space: pre-wrap;\n",
        "}\n",
        "\n",
        "li{\n",
        "  list-style-type: none;\n",
        "  word-wrap: break-word;\n",
        "  white-space: pre-wrap;\n",
        "}\n",
        "\n",
        "#button{\n",
        "  background-color:green;\n",
        "  margin:10px;\n",
        "}\n"
      ],
      "metadata": {
        "id": "laN-qdg786FA"
      },
      "execution_count": null,
      "outputs": []
    },
    {
      "cell_type": "markdown",
      "source": [
        "messages.component.ts"
      ],
      "metadata": {
        "id": "2nsgjmcj881y"
      }
    },
    {
      "cell_type": "code",
      "source": [
        "import { Component, Input, Output, EventEmitter } from '@angular/core';\n",
        "\n",
        "\n",
        "@Component({\n",
        "  selector: 'app-messages',\n",
        "  standalone: true,\n",
        "  imports: [],\n",
        "  templateUrl: './messages.component.html',\n",
        "  styleUrls: ['./messages.component.css']\n",
        "})\n",
        "export class MessagesComponent {\n",
        "  @Input() message:any ='';\n",
        "  @Input() index:number = -1;\n",
        "\n",
        "  @Output() del = new EventEmitter();\n",
        "  onDelete(){\n",
        "    this.del.emit(this.index);\n",
        "  }\n",
        "}\n"
      ],
      "metadata": {
        "id": "PIZZVfxc8_7f"
      },
      "execution_count": null,
      "outputs": []
    }
  ],
  "metadata": {
    "colab": {
      "name": "Welcome To Colab",
      "toc_visible": true,
      "provenance": [],
      "include_colab_link": true
    },
    "kernelspec": {
      "display_name": "Python 3",
      "name": "python3"
    }
  },
  "nbformat": 4,
  "nbformat_minor": 0
}