{
  "cells": [
    {
      "cell_type": "markdown",
      "metadata": {
        "id": "view-in-github",
        "colab_type": "text"
      },
      "source": [
        "<a href=\"https://colab.research.google.com/github/SrijaG29/offc_dsa_prac/blob/main/Welcome_To_Colab.ipynb\" target=\"_parent\"><img src=\"https://colab.research.google.com/assets/colab-badge.svg\" alt=\"Open In Colab\"/></a>"
      ]
    },
    {
      "cell_type": "code",
      "source": [
        "app.component.html"
      ],
      "metadata": {
        "id": "9LhP1W1P8e8j"
      },
      "execution_count": null,
      "outputs": []
    },
    {
      "cell_type": "code",
      "source": [
        "<app-header></app-header>\n",
        "<router-outlet></router-outlet>\n"
      ],
      "metadata": {
        "id": "xB2ZqsnX8hWZ"
      },
      "execution_count": null,
      "outputs": []
    },
    {
      "cell_type": "markdown",
      "source": [
        "app.component.css"
      ],
      "metadata": {
        "id": "ge8cDiJ78eiq"
      }
    },
    {
      "cell_type": "code",
      "source": [
        "/*.form-container{\n",
        "  background-color: gray;\n",
        "  display: flex;\n",
        "  flex-direction: column;\n",
        "  margin: 10%;\n",
        "  width: 80%;\n",
        "  height: 80%;\n",
        "}*/\n",
        "\n",
        ".form-container {\n",
        "  max-width: 400px;\n",
        "  margin: auto;\n",
        "  padding: 20px;\n",
        "  border: 1px solid #ccc;\n",
        "  border-radius: 5px;\n",
        "  background-color: #f7f7f7;\n",
        "}\n",
        "\n",
        "h4{\n",
        "  text-align: center;\n",
        "}\n",
        "\n",
        ".form-ele{\n",
        "  display:flex;\n",
        "  padding:1%;\n",
        "  align-items:center;\n",
        "}\n",
        "\n",
        "#Submit{\n",
        "  background-color:green;\n",
        "}\n",
        "\n",
        "\n"
      ],
      "metadata": {
        "id": "GVzd9eRI8qNs"
      },
      "execution_count": null,
      "outputs": []
    },
    {
      "cell_type": "markdown",
      "source": [
        "app.component.ts"
      ],
      "metadata": {
        "id": "volflzZ38tat"
      }
    },
    {
      "cell_type": "code",
      "source": [
        "import { HttpClientModule } from '@angular/common/http';\n",
        "import { Component } from '@angular/core';\n",
        "\n",
        "\n",
        "@Component({\n",
        "  selector: 'app-root',\n",
        "//   imports: [MainlogicComponent],\n",
        "  templateUrl: './app.component.html',\n",
        "  standalone: false,\n",
        "  styleUrls: ['./app.component.css']\n",
        "})\n",
        "export class AppComponent {\n",
        "  title = 'form';\n",
        "}\n"
      ],
      "metadata": {
        "id": "zRepDbEc8vSo"
      },
      "execution_count": null,
      "outputs": []
    },
    {
      "cell_type": "markdown",
      "source": [
        "app-routing.modules.ts"
      ],
      "metadata": {
        "id": "5HTuWRCBwCia"
      }
    },
    {
      "cell_type": "code",
      "source": [
        "import { NgModule } from '@angular/core';\n",
        "import { RouterModule, Routes } from '@angular/router';\n",
        "import { AboutComponent } from './about/about.component';\n",
        "import { MainlogicComponent } from './mainlogic/mainlogic.component';\n",
        "const routes: Routes = [\n",
        "  {path:'',component:MainlogicComponent},\n",
        "  {path:'about',component:AboutComponent},\n",
        "  {path:'about/:username',component:AboutComponent}\n",
        "  ];\n",
        "\n",
        "@NgModule({\n",
        "  imports: [RouterModule.forRoot(routes)],\n",
        "  exports: [RouterModule]\n",
        "})\n",
        "export class AppRoutingModule { }\n"
      ],
      "metadata": {
        "id": "fQAIn1qkwf74"
      },
      "execution_count": null,
      "outputs": []
    },
    {
      "cell_type": "markdown",
      "source": [
        "app.module.ts"
      ],
      "metadata": {
        "id": "TwIZBLUwv0_r"
      }
    },
    {
      "cell_type": "code",
      "source": [
        "import { NgModule } from '@angular/core';\n",
        "import { BrowserModule } from '@angular/platform-browser';\n",
        "import { FormsModule } from '@angular/forms';\n",
        "import { AppRoutingModule } from './app-routing.module';\n",
        "import { AppComponent } from './app.component';\n",
        "import { HeaderComponent } from './header/header.component';\n",
        "import { MainlogicComponent } from './mainlogic/mainlogic.component';\n",
        "import { MessagesComponent } from './messages/messages.component';\n",
        "import { AboutComponent } from './about/about.component';\n",
        "import { RouterLink} from '@angular/router';\n",
        "import { HttpClientModule } from '@angular/common/http';\n",
        "\n",
        "@NgModule({\n",
        "  declarations: [\n",
        "    AppComponent,\n",
        "    HeaderComponent,\n",
        "    MainlogicComponent,\n",
        "    MessagesComponent,\n",
        "    AboutComponent\n",
        "  ],\n",
        "  imports: [\n",
        "    BrowserModule,\n",
        "    AppRoutingModule,\n",
        "    FormsModule,\n",
        "    HttpClientModule\n",
        "  ],\n",
        "  providers: [],\n",
        "  bootstrap: [AppComponent]\n",
        "})\n",
        "export class AppModule { }\n"
      ],
      "metadata": {
        "id": "kMCNdcakvzy6"
      },
      "execution_count": null,
      "outputs": []
    },
    {
      "cell_type": "markdown",
      "source": [
        "messages.component.html"
      ],
      "metadata": {
        "id": "pUUXhLFY8yJ6"
      }
    },
    {
      "cell_type": "code",
      "source": [
        "<!--<table id=\"table\" >-->\n",
        "<!--  <tr class=\"table-row\">-->\n",
        "<!--    <th>S.No</th>-->\n",
        "<!--    <th>Name</th>-->\n",
        "<!--    <th>Email</th>-->\n",
        "<!--    <th>Message</th>-->\n",
        "<!--  </tr>-->\n",
        "<!--  <tr class=\"table-row\" >-->\n",
        "<!--    <td>{{index+1}}</td>-->\n",
        "<!--    <td>{{message.name}}</td>-->\n",
        "<!--    <td>{{message.email}}</td>-->\n",
        "<!--    <td>{{message.message}}</td>-->\n",
        "<!--  </tr>-->\n",
        "<!--</table>-->\n",
        "<div class=\"message-details\">\n",
        "  <ul>\n",
        "    <li>Name: {{message.name}}</li>\n",
        "    <li>Email: {{message.email}}</li>\n",
        "    <li>Message: {{message.message}}</li>\n",
        "  </ul>\n",
        "  <button id=\"button\" (click)=\"onDelete()\">Delete</button>\n",
        "</div>\n"
      ],
      "metadata": {
        "id": "7vLUrlHo80Yo"
      },
      "execution_count": null,
      "outputs": []
    },
    {
      "cell_type": "markdown",
      "source": [
        "messages.component.css"
      ],
      "metadata": {
        "id": "AfjsBjGz84HN"
      }
    },
    {
      "cell_type": "code",
      "source": [
        "\n",
        "\n",
        ".message-details{\n",
        "   margin: 10px;\n",
        "   padding: 5px;\n",
        "   border: 1px solid #ccc;\n",
        "   background-color: #f7f7f7;\n",
        "   border-radius: 4px;\n",
        "   word-wrap: break-word;\n",
        "   white-space: pre-wrap;\n",
        "}\n",
        "\n",
        "li{\n",
        "  list-style-type: none;\n",
        "  word-wrap: break-word;\n",
        "  white-space: pre-wrap;\n",
        "}\n",
        "\n",
        "#button{\n",
        "  background-color:green;\n",
        "  margin:10px;\n",
        "}\n"
      ],
      "metadata": {
        "id": "laN-qdg786FA"
      },
      "execution_count": null,
      "outputs": []
    },
    {
      "cell_type": "markdown",
      "source": [
        "messages.component.ts"
      ],
      "metadata": {
        "id": "2nsgjmcj881y"
      }
    },
    {
      "cell_type": "code",
      "source": [
        "import { Component, Input, Output, EventEmitter } from '@angular/core';\n",
        "\n",
        "\n",
        "@Component({\n",
        "  selector: 'app-messages',\n",
        "  standalone: true,\n",
        "  imports: [],\n",
        "  templateUrl: './messages.component.html',\n",
        "  styleUrls: ['./messages.component.css']\n",
        "})\n",
        "export class MessagesComponent {\n",
        "  @Input() message:any ='';\n",
        "  @Input() index:number = -1;\n",
        "\n",
        "  @Output() del = new EventEmitter();\n",
        "  onDelete(){\n",
        "    this.del.emit(this.index);\n",
        "  }\n",
        "}\n"
      ],
      "metadata": {
        "id": "PIZZVfxc8_7f"
      },
      "execution_count": null,
      "outputs": []
    },
    {
      "cell_type": "markdown",
      "source": [
        "mainlogic.component.html"
      ],
      "metadata": {
        "id": "P4z2NlQkwxsV"
      }
    },
    {
      "cell_type": "code",
      "source": [
        "<div class=\"form-container\">\n",
        "  <h4 >Sample Form:</h4>\n",
        "  <form (ngSubmit)=\"onSubmit()\">\n",
        "    <div class=\"form-ele\">\n",
        "      <label for=\"name\">Name:</label>\n",
        "      <input type=\"text\" id=\"name\" required [(ngModel)]=\"name\" name=\"name\">\n",
        "    </div>\n",
        "    <div class=\"form-ele\">\n",
        "      <label for=\"email\">Email:</label>\n",
        "      <input type=\"text\" id=\"email\" required [(ngModel)]=\"email\" name=\"email\">\n",
        "    </div>\n",
        "    <div class=\"form-ele\">\n",
        "      <label for=\"message\">Message:</label>\n",
        "      <textarea id=\"message\" rows=\"4\" [(ngModel)]=\"message\" name=\"message\"  required></textarea>\n",
        "    </div>\n",
        "    <div class=\"form-ele\">\n",
        "      <button id=\"Submit\" >Submit</button>\n",
        "    </div>\n",
        "  </form>\n",
        "\n",
        "  <div id=\"container\" *ngIf=\"toShow\">\n",
        "    <app-messages *ngFor=\"let ele of messages; index as i\"\n",
        "                  [message]=\"ele\"\n",
        "                  [index]=\"i\"\n",
        "                  (del)=\"deleteMessage($event)\">\n",
        "    </app-messages>\n",
        "  </div>\n",
        "</div>\n",
        "\n"
      ],
      "metadata": {
        "id": "ZNdtwd6kwzwa"
      },
      "execution_count": null,
      "outputs": []
    },
    {
      "cell_type": "markdown",
      "source": [
        "mainlogic.component.css"
      ],
      "metadata": {
        "id": "JbphrxDtw0gy"
      }
    },
    {
      "cell_type": "code",
      "source": [
        ".form-container {\n",
        "  max-width: 400px;\n",
        "  margin: auto;\n",
        "  padding: 20px;\n",
        "  border: 1px solid #ccc;\n",
        "  border-radius: 5px;\n",
        "  background-color: #f7f7f7;\n",
        "}\n",
        "\n",
        "h4{\n",
        "  text-align: center;\n",
        "}\n",
        "\n",
        ".form-ele{\n",
        "  display:flex;\n",
        "  padding:1%;\n",
        "  align-items:center;\n",
        "}\n",
        "\n",
        "#Submit{\n",
        "  background-color:green;\n",
        "}\n",
        "\n",
        "\n"
      ],
      "metadata": {
        "id": "s9JaiW8ew2rI"
      },
      "execution_count": null,
      "outputs": []
    },
    {
      "cell_type": "markdown",
      "source": [
        "mainlogic.component.ts"
      ],
      "metadata": {
        "id": "3LUDcL4Zw6pi"
      }
    },
    {
      "cell_type": "code",
      "source": [
        "import { Component } from '@angular/core';\n",
        "import { TestService } from '../test.service';\n",
        "\n",
        "\n",
        "@Component({\n",
        "  selector: 'app-mainlogic',\n",
        "  standalone: false,\n",
        "  templateUrl: './mainlogic.component.html',\n",
        "  styleUrls: ['./mainlogic.component.css']\n",
        "})\n",
        "export class MainlogicComponent {\n",
        "  name:string='';\n",
        "      email:string='';\n",
        "      message:string='';\n",
        "      toShow:boolean = false;\n",
        "      messages:Array<any>=[];\n",
        "\n",
        "      constructor(private ts:TestService){\n",
        "        this.messages = this.ts.getAllMessages();\n",
        "        this.toShow = this.messages.length > 0;\n",
        "      }\n",
        "\n",
        "      onSubmit(){\n",
        "        this.toShow = true;\n",
        "        this.ts.insertMessage({'name':this.name,'email':this.email,'message':this.message});\n",
        "        this.messages = this.ts.getAllMessages();\n",
        "      }\n",
        "\n",
        "      deleteMessage(index: number){\n",
        "        this.ts.delMessage(index);\n",
        "        this.messages = this.ts.getAllMessages();\n",
        "      }\n",
        "}\n"
      ],
      "metadata": {
        "id": "dBZOXgLHw9ia"
      },
      "execution_count": null,
      "outputs": []
    },
    {
      "cell_type": "markdown",
      "source": [
        "header.component.html"
      ],
      "metadata": {
        "id": "S54qFk1GxHZ0"
      }
    },
    {
      "cell_type": "code",
      "source": [
        "<div class=\"menu\">\n",
        "  <a routerLink=\"/\" routerLinkActive=\"active\">Home</a>\n",
        "  <a routerLink=\"/about\" routerLinkActive=\"active\">About</a>\n",
        "</div>\n"
      ],
      "metadata": {
        "id": "Bw7CoNlkxTaY"
      },
      "execution_count": null,
      "outputs": []
    },
    {
      "cell_type": "markdown",
      "source": [
        "header.component.css"
      ],
      "metadata": {
        "id": "Q8lVy23HxUPT"
      }
    },
    {
      "cell_type": "code",
      "source": [
        ".menu{\n",
        "  display:flex;\n",
        "  justify-content:center;\n",
        "  background: green;\n",
        "  color:whilte\n",
        "}\n",
        "\n",
        "a{\n",
        "  padding:2%;\n",
        "}\n"
      ],
      "metadata": {
        "id": "BSKzy9RMxV_B"
      },
      "execution_count": null,
      "outputs": []
    },
    {
      "cell_type": "markdown",
      "source": [
        "about.component.html"
      ],
      "metadata": {
        "id": "_IokAWsmxdYX"
      }
    },
    {
      "cell_type": "code",
      "source": [
        "<div class=\"about-container\">\n",
        "  <h2>About the Angular Crash Course</h2>\n",
        "  <p>\n",
        "    Welcome to the Angular Crash Course! This course is designed for beginners who want to learn Angular,\n",
        "    one of the most popular JavaScript frameworks for building web applications.\n",
        "  </p>\n",
        "\n",
        "  <p>\n",
        "    In this course, you will learn the fundamentals of Angular, including components, services, routing,\n",
        "    and HTTP communication. By the end of the course, you will have a solid understanding of how to build\n",
        "    powerful and interactive web applications using Angular.\n",
        "  </p>\n",
        "\n",
        "  <p>\n",
        "    Whether you are new to web development or have experience with other frameworks, this crash course\n",
        "    will get you up to speed with Angular in no time.\n",
        "  </p>\n",
        "</div>\n"
      ],
      "metadata": {
        "id": "VK5Qf8dbxf5b"
      },
      "execution_count": null,
      "outputs": []
    },
    {
      "cell_type": "markdown",
      "source": [
        "about.component.css"
      ],
      "metadata": {
        "id": "IVRxdbkxxg5N"
      }
    },
    {
      "cell_type": "code",
      "source": [
        ".about-container {\n",
        "  max-width: 800px;\n",
        "  margin: 0 auto;\n",
        "  padding: 20px;\n",
        "  background-color: #f5f5f5;\n",
        "  border-radius: 5px;\n",
        "  box-shadow: 0 2px 4px rgba(0, 0, 0, 0.1);\n",
        "}\n",
        "\n",
        "h2 {\n",
        "  color: #333;\n",
        "}\n",
        "\n",
        "p {\n",
        "  color: #555;\n",
        "  line-height: 1.6;\n",
        "}\n"
      ],
      "metadata": {
        "id": "7xdmwtTFxi8P"
      },
      "execution_count": null,
      "outputs": []
    },
    {
      "cell_type": "markdown",
      "source": [
        "about.component.ts"
      ],
      "metadata": {
        "id": "SAlqXwtXxoFd"
      }
    },
    {
      "cell_type": "code",
      "source": [
        "import { Component, OnInit } from '@angular/core';\n",
        "import { ActivatedRoute } from '@angular/router';\n",
        "\n",
        "@Component({\n",
        "  selector: 'app-about',\n",
        "  standalone: false,\n",
        "\n",
        "  templateUrl: './about.component.html',\n",
        "  styleUrl: './about.component.css'\n",
        "})\n",
        "export class AboutComponent implements OnInit{\n",
        "\n",
        "  constructor(private activatedroute:ActivatedRoute){\n",
        "  }\n",
        "  param:any;\n",
        "\n",
        "  ngOnInit(): void {\n",
        "    console.log(this.activatedroute);\n",
        "    this.param = this.activatedroute.snapshot.params['username'];\n",
        "  }\n",
        "}\n"
      ],
      "metadata": {
        "id": "2B5SGEvhxpqu"
      },
      "execution_count": null,
      "outputs": []
    },
    {
      "cell_type": "markdown",
      "source": [
        "test.service.ts"
      ],
      "metadata": {
        "id": "Id4iCkh6xx3v"
      }
    },
    {
      "cell_type": "code",
      "source": [
        "import { Injectable } from '@angular/core';\n",
        "\n",
        "@Injectable({\n",
        "  providedIn: 'root'\n",
        "})\n",
        "export class TestService {\n",
        "  messages:Array<any>=[];\n",
        "    constructor() { }\n",
        "\n",
        "    insertMessage(message: {name:string,email:string,message:string}):void{\n",
        "        this.messages.push(message);\n",
        "    }\n",
        "\n",
        "    getAllMessages():any{\n",
        "      return this.messages;\n",
        "    }\n",
        "\n",
        "    delMessage(index:number):void{\n",
        "      this.messages.splice(index,1);\n",
        "    }\n",
        "}\n"
      ],
      "metadata": {
        "id": "U--lppGZxzH2"
      },
      "execution_count": null,
      "outputs": []
    }
  ],
  "metadata": {
    "colab": {
      "name": "Welcome To Colab",
      "toc_visible": true,
      "provenance": [],
      "include_colab_link": true
    },
    "kernelspec": {
      "display_name": "Python 3",
      "name": "python3"
    }
  },
  "nbformat": 4,
  "nbformat_minor": 0
}