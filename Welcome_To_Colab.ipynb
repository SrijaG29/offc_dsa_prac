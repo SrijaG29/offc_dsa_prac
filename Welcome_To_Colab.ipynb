{
  "cells": [
    {
      "cell_type": "markdown",
      "metadata": {
        "id": "view-in-github",
        "colab_type": "text"
      },
      "source": [
        "<a href=\"https://colab.research.google.com/github/SrijaG29/offc_dsa_prac/blob/main/Welcome_To_Colab.ipynb\" target=\"_parent\"><img src=\"https://colab.research.google.com/assets/colab-badge.svg\" alt=\"Open In Colab\"/></a>"
      ]
    },
    {
      "cell_type": "markdown",
      "source": [
        "app.component\n"
      ],
      "metadata": {
        "id": "aWidwWgbwWWc"
      }
    },
    {
      "cell_type": "markdown",
      "source": [
        "app-routing.module.ts"
      ],
      "metadata": {
        "id": "JWWkifnBwaUT"
      }
    },
    {
      "cell_type": "code",
      "source": [
        "import { NgModule } from '@angular/core';\n",
        "import { RouterModule, Routes } from '@angular/router';\n",
        "import { AboutComponent } from './about/about.component';\n",
        "import { MainlogicComponent } from './mainlogic/mainlogic.component';\n",
        "import { ProductsComponent } from './products/products.component';\n",
        "import { NewProductComponent } from './new-product/new-product.component';\n",
        "const routes: Routes = [\n",
        "  {path:'',component:MainlogicComponent},\n",
        "  {path:'about',component:AboutComponent},\n",
        "  {path:'about/:username',component:AboutComponent},\n",
        "  {path:'products',component:ProductsComponent},\n",
        "  {path:'newProduct',component:NewProductComponent}\n",
        "  ];\n",
        "\n",
        "@NgModule({\n",
        "  imports: [RouterModule.forRoot(routes)],\n",
        "  exports: [RouterModule]\n",
        "})\n",
        "export class AppRoutingModule { }\n"
      ],
      "metadata": {
        "id": "s_bhs1wiwnHr"
      },
      "execution_count": null,
      "outputs": []
    },
    {
      "cell_type": "markdown",
      "source": [
        "app.component.html"
      ],
      "metadata": {
        "id": "x8L0Majfwn3B"
      }
    },
    {
      "cell_type": "code",
      "source": [
        "<app-header></app-header>\n",
        "<router-outlet></router-outlet>\n"
      ],
      "metadata": {
        "id": "J6AEthPMwrYX"
      },
      "execution_count": null,
      "outputs": []
    },
    {
      "cell_type": "markdown",
      "source": [
        "app.component.ts"
      ],
      "metadata": {
        "id": "6fTCCf7dwsHz"
      }
    },
    {
      "cell_type": "code",
      "source": [
        "import { HttpClientModule } from '@angular/common/http';\n",
        "import { Component } from '@angular/core';\n",
        "\n",
        "\n",
        "@Component({\n",
        "  selector: 'app-root',\n",
        "//   imports: [MainlogicComponent],\n",
        "  templateUrl: './app.component.html',\n",
        "  standalone: false,\n",
        "  styleUrls: ['./app.component.css']\n",
        "})\n",
        "export class AppComponent {\n",
        "  title = 'form';\n",
        "}\n"
      ],
      "metadata": {
        "id": "ruTz3EtHwwKQ"
      },
      "execution_count": null,
      "outputs": []
    },
    {
      "cell_type": "markdown",
      "source": [
        "app.module.ts"
      ],
      "metadata": {
        "id": "A6i5k-elww53"
      }
    },
    {
      "cell_type": "code",
      "source": [
        "import { NgModule } from '@angular/core';\n",
        "import { BrowserModule } from '@angular/platform-browser';\n",
        "import { FormsModule } from '@angular/forms';\n",
        "import { AppRoutingModule } from './app-routing.module';\n",
        "import { AppComponent } from './app.component';\n",
        "import { HeaderComponent } from './header/header.component';\n",
        "import { MainlogicComponent } from './mainlogic/mainlogic.component';\n",
        "import { MessagesComponent } from './messages/messages.component';\n",
        "import { AboutComponent } from './about/about.component';\n",
        "import { RouterLink} from '@angular/router';\n",
        "import { HttpClient, HttpClientModule } from '@angular/common/http';\n",
        "import { ProductsComponent } from './products/products.component';\n",
        "import { ProductDetailsComponent } from './product-details/product-details.component';\n",
        "import { NewProductComponent } from './new-product/new-product.component';\n",
        "\n",
        "@NgModule({\n",
        "  declarations: [\n",
        "    AppComponent,\n",
        "    HeaderComponent,\n",
        "    MainlogicComponent,\n",
        "    MessagesComponent,\n",
        "    AboutComponent,\n",
        "    ProductsComponent,\n",
        "    ProductDetailsComponent,\n",
        "    NewProductComponent\n",
        "  ],\n",
        "  imports: [\n",
        "    BrowserModule,\n",
        "    AppRoutingModule,\n",
        "    FormsModule,\n",
        "    HttpClientModule\n",
        "  ],\n",
        "  providers: [HttpClient],\n",
        "  bootstrap: [AppComponent]\n",
        "})\n",
        "export class AppModule { }\n"
      ],
      "metadata": {
        "id": "0nqWYKt2w3_W"
      },
      "execution_count": null,
      "outputs": []
    },
    {
      "cell_type": "markdown",
      "source": [
        "services/api"
      ],
      "metadata": {
        "id": "L_LoO0Egw8aH"
      }
    },
    {
      "cell_type": "markdown",
      "source": [
        "test.service.ts"
      ],
      "metadata": {
        "id": "Pbgl0p-Xw_Tw"
      }
    },
    {
      "cell_type": "code",
      "source": [
        "import { Injectable } from '@angular/core';\n",
        "\n",
        "@Injectable({\n",
        "  providedIn: 'root'\n",
        "})\n",
        "export class TestService {\n",
        "  messages:Array<any>=[];\n",
        "    constructor() { }\n",
        "\n",
        "    insertMessage(message: {name:string,email:string,message:string}):void{\n",
        "        this.messages.push(message);\n",
        "    }\n",
        "\n",
        "    getAllMessages():any{\n",
        "      return this.messages;\n",
        "    }\n",
        "\n",
        "    delMessage(index:number):void{\n",
        "      this.messages.splice(index,1);\n",
        "    }\n",
        "}\n"
      ],
      "metadata": {
        "id": "ew-zz1U5xB3w"
      },
      "execution_count": null,
      "outputs": []
    },
    {
      "cell_type": "markdown",
      "source": [
        "products/Product.module.ts"
      ],
      "metadata": {
        "id": "cclxCI4pxEfr"
      }
    },
    {
      "cell_type": "code",
      "source": [
        "import { HttpClient } from '@angular/common/http';\n",
        "import { Injectable } from '@angular/core';\n",
        "import { ProductRepresentation } from './models/productRepresentation';\n",
        "\n",
        "@Injectable({\n",
        "  providedIn: 'root'\n",
        "})\n",
        "export class ProductService {\n",
        "\n",
        "  private baseUrl = \"https://fakestoreapi.com/\";\n",
        "  constructor(private http:HttpClient) { }\n",
        "\n",
        "  getAllProductsWithLimit(limit: number = 5){\n",
        "    const productsUrl:string = `${this.baseUrl}products?limit=${limit}`;\n",
        "    return this.http.get<ProductRepresentation[]>(productsUrl);\n",
        "  }\n",
        "\n",
        "  createProduct(product:ProductRepresentation){\n",
        "    const productsUrl:string = `${this.baseUrl}products`;\n",
        "    return this.http.post(productsUrl,product);\n",
        "  }\n",
        "}\n"
      ],
      "metadata": {
        "id": "ij10vozixLhy"
      },
      "execution_count": null,
      "outputs": []
    },
    {
      "cell_type": "markdown",
      "source": [
        "models/productRepresentation"
      ],
      "metadata": {
        "id": "HYx5IweIxOPp"
      }
    },
    {
      "cell_type": "code",
      "source": [
        "import { RatingRepresentation } from \"./ratingRepresentation\";\n",
        "\n",
        "export interface ProductRepresentation{\n",
        "    id?: number,\n",
        "    title?:string,\n",
        "    category?:string,\n",
        "    description?:string,\n",
        "    image?:string,\n",
        "    price?:number,\n",
        "    rating?:RatingRepresentation\n",
        "}"
      ],
      "metadata": {
        "id": "D19TqvrgxZWV"
      },
      "execution_count": null,
      "outputs": []
    },
    {
      "cell_type": "markdown",
      "source": [
        "models/ratingRepresentation"
      ],
      "metadata": {
        "id": "HkWwlSuzxaHx"
      }
    },
    {
      "cell_type": "code",
      "source": [
        "export interface RatingRepresentation{\n",
        "    rate?:number,\n",
        "    count?:number\n",
        "}"
      ],
      "metadata": {
        "id": "sTm2Gp1_xfLO"
      },
      "execution_count": null,
      "outputs": []
    },
    {
      "cell_type": "markdown",
      "source": [
        "products.component"
      ],
      "metadata": {
        "id": "AGSFQtSKxf6k"
      }
    },
    {
      "cell_type": "markdown",
      "source": [
        "products.component.html"
      ],
      "metadata": {
        "id": "bC3kTVfoxpSJ"
      }
    },
    {
      "cell_type": "code",
      "source": [
        "<app-product-details\n",
        "  *ngFor=\"let product of products\"\n",
        "  [product]=\"product\"\n",
        "></app-product-details>\n"
      ],
      "metadata": {
        "id": "gzvGuI-Cxrcg"
      },
      "execution_count": null,
      "outputs": []
    },
    {
      "cell_type": "markdown",
      "source": [
        "products.component.ts"
      ],
      "metadata": {
        "id": "NsEQsAOGxwKo"
      }
    },
    {
      "cell_type": "code",
      "source": [
        "import { Component, OnInit } from '@angular/core';\n",
        "import {ProductService} from \"../services/api/products/product.service\";\n",
        "import {ProductRepresentation} from \"../services/api/products/models/productRepresentation\";\n",
        "@Component({\n",
        "  selector: 'app-products',\n",
        "  standalone: false,\n",
        "\n",
        "  templateUrl: './products.component.html',\n",
        "  styleUrl: './products.component.css'\n",
        "})\n",
        "export class ProductsComponent implements OnInit{\n",
        "  constructor(private service:ProductService){\n",
        "  }\n",
        "  products:ProductRepresentation[]=[];\n",
        "\n",
        "  ngOnInit(): void {\n",
        "    this.service.getAllProductsWithLimit()\n",
        "    .subscribe((data)=>{\n",
        "      this.products=data;\n",
        "    })\n",
        "  }\n",
        "\n",
        "}\n"
      ],
      "metadata": {
        "id": "Rl-XI5nNxx-T"
      },
      "execution_count": null,
      "outputs": []
    },
    {
      "cell_type": "markdown",
      "source": [
        "product-details.component"
      ],
      "metadata": {
        "id": "Cf-rjM5Vx2ek"
      }
    },
    {
      "cell_type": "markdown",
      "source": [
        "product-details.component.css"
      ],
      "metadata": {
        "id": "ZUuPnhz8x8r5"
      }
    },
    {
      "cell_type": "code",
      "source": [
        ".product-card {\n",
        "    display: flex;\n",
        "    border: 1px solid #ccc;\n",
        "    border-radius: 5px;\n",
        "    padding: 15px;\n",
        "    background-color: #fff;\n",
        "    box-shadow: 0 2px 4px rgba(0, 0, 0, 0.1);\n",
        "    margin-bottom: 5px;\n",
        "  }\n",
        "\n",
        "  .product-image {\n",
        "    width: 150px;\n",
        "    height: 150px;\n",
        "    object-fit: cover;\n",
        "    border-radius: 5px;\n",
        "    margin-right: 15px;\n",
        "  }\n",
        "\n",
        "  .product-details {\n",
        "    flex: 1;\n",
        "  }\n",
        "\n",
        "  .product-title {\n",
        "    font-size: 18px;\n",
        "    margin: 0;\n",
        "  }\n",
        "\n",
        "  .product-price {\n",
        "    font-size: 16px;\n",
        "    color: #007bff;\n",
        "  }\n",
        "\n",
        "  .product-description {\n",
        "    font-size: 14px;\n",
        "    line-height: 1.4;\n",
        "    margin: 5px 0;\n",
        "    color: #333;\n",
        "  }\n",
        "\n",
        "  .product-category {\n",
        "    font-size: 14px;\n",
        "    margin-bottom: 5px;\n",
        "    color: #555;\n",
        "  }\n",
        "\n",
        "  .product-rating {\n",
        "    display: flex;\n",
        "    align-items: center;\n",
        "  }\n",
        "\n",
        "  .rating-value {\n",
        "    font-size: 16px;\n",
        "    margin-right: 5px;\n",
        "    color: #f39c12;\n",
        "  }"
      ],
      "metadata": {
        "id": "0fgFBENTx56i"
      },
      "execution_count": null,
      "outputs": []
    },
    {
      "cell_type": "markdown",
      "source": [
        "product-details.component.html"
      ],
      "metadata": {
        "id": "4fqg9B73x_-T"
      }
    },
    {
      "cell_type": "code",
      "source": [
        "<div class=\"product-card\">\n",
        "    <img class=\"product-image\" [src]=\"product.image\" [attr.alt]=\"product.title\">\n",
        "    <div class=\"product-details\">\n",
        "      <h3 class=\"product-title\"> {{product.title}} </h3>\n",
        "      <p class=\"product-price\">$  {{product.price}} </p>\n",
        "      <p class=\"product-description\"> {{product.description}} </p>\n",
        "      <p class=\"product-category\"> {{product.category}} </p>\n",
        "      <div class=\"product-rating\">\n",
        "        <span class=\"rating-value\"> {{product.rating?.rate}} </span>\n",
        "        <span class=\"rating-count\"> {{ product.rating?.count }}  reviews</span>\n",
        "      </div>\n",
        "    </div>\n",
        "  </div>\n"
      ],
      "metadata": {
        "id": "txnd0VOqyB34"
      },
      "execution_count": null,
      "outputs": []
    },
    {
      "cell_type": "markdown",
      "source": [
        "product-details.component.ts"
      ],
      "metadata": {
        "id": "5DtHi_yRyEaP"
      }
    },
    {
      "cell_type": "code",
      "source": [
        "import { Component,Input } from '@angular/core';\n",
        "import { ProductRepresentation } from '../services/api/products/models/productRepresentation';\n",
        "\n",
        "@Component({\n",
        "  selector: 'app-product-details',\n",
        "  standalone: false,\n",
        "\n",
        "  templateUrl: './product-details.component.html',\n",
        "  styleUrl: './product-details.component.css'\n",
        "})\n",
        "export class ProductDetailsComponent {\n",
        "  @Input()\n",
        "  product: ProductRepresentation = {};\n",
        "}\n"
      ],
      "metadata": {
        "id": "zMwRMHguyGWW"
      },
      "execution_count": null,
      "outputs": []
    },
    {
      "cell_type": "markdown",
      "source": [
        "new-product.component"
      ],
      "metadata": {
        "id": "RmcWMceEyLpm"
      }
    },
    {
      "cell_type": "markdown",
      "source": [
        "new-product.component.css"
      ],
      "metadata": {
        "id": "8SCNvslqyOaX"
      }
    },
    {
      "cell_type": "code",
      "source": [
        "form {\n",
        "    display: flex;\n",
        "    flex-direction: column;\n",
        "    max-width: 400px;\n",
        "    margin: 0 auto;\n",
        "    padding: 10px;\n",
        "    background-color: #f8f8f8;\n",
        "    border: 1px solid #ccc;\n",
        "    border-radius: 5px;\n",
        "  }\n",
        "\n",
        "  div {\n",
        "    margin-bottom: 15px;\n",
        "  }\n",
        "\n",
        "  label {\n",
        "    font-weight: bold;\n",
        "  }\n",
        "\n",
        "  input[type=\"text\"],\n",
        "  input[type=\"number\"],\n",
        "  textarea {\n",
        "    width: 95%;\n",
        "    padding: 10px;\n",
        "    border: 1px solid #ccc;\n",
        "    border-radius: 5px;\n",
        "  }\n",
        "\n",
        "  textarea {\n",
        "    resize: vertical;\n",
        "    min-height: 100px;\n",
        "  }\n",
        "\n",
        "  button {\n",
        "    background-color: #007bff;\n",
        "    color: #fff;\n",
        "    padding: 10px 20px;\n",
        "    border: none;\n",
        "    border-radius: 5px;\n",
        "    cursor: pointer;\n",
        "  }\n",
        "\n",
        "  button:hover {\n",
        "    background-color: #0056b3;\n",
        "  }\n",
        "\n",
        "  /* Error messages */\n",
        "  .error {\n",
        "    color: red;\n",
        "    font-size: 12px;\n",
        "  }"
      ],
      "metadata": {
        "id": "0p88RbHhyRnO"
      },
      "execution_count": null,
      "outputs": []
    },
    {
      "cell_type": "markdown",
      "source": [
        "new-product.component.html"
      ],
      "metadata": {
        "id": "ugshndn-ySxl"
      }
    },
    {
      "cell_type": "code",
      "source": [
        "<h2>Add a New Product</h2>\n",
        "\n",
        "<form (ngSubmit)=\"saveProduct()\" >\n",
        "  <div>\n",
        "    <label for=\"title\">Title:</label>\n",
        "    <input type=\"text\" id=\"title\" [(ngModel)]=\"product.title\" name=\"title\" required>\n",
        "  </div>\n",
        "\n",
        "  <div>\n",
        "    <label for=\"price\">Price:</label>\n",
        "    <input type=\"number\" id=\"price\" [(ngModel)]=\"product.price\" name=\"price\" required>\n",
        "  </div>\n",
        "\n",
        "  <div>\n",
        "    <label for=\"description\">Description:</label>\n",
        "    <textarea id=\"description\"  [(ngModel)]=\"product.description\" name=\"description\" required></textarea>\n",
        "  </div>\n",
        "\n",
        "  <div>\n",
        "    <label for=\"image\">Image URL:</label>\n",
        "    <input type=\"text\"  [(ngModel)]=\"product.image\" id=\"image\" name=\"image\" required>\n",
        "  </div>\n",
        "\n",
        "  <div>\n",
        "    <label for=\"category\">Category:</label>\n",
        "    <input type=\"text\"  [(ngModel)]=\"product.category\" id=\"category\" name=\"category\" required>\n",
        "  </div>\n",
        "\n",
        "  <button type=\"submit\">Save Product</button>\n",
        "</form>\n"
      ],
      "metadata": {
        "id": "capXsJUJyVCi"
      },
      "execution_count": null,
      "outputs": []
    },
    {
      "cell_type": "markdown",
      "source": [
        "new-product.component.ts"
      ],
      "metadata": {
        "id": "O0kww9bIyXem"
      }
    },
    {
      "cell_type": "code",
      "source": [
        "import { Component } from '@angular/core';\n",
        "import { ProductRepresentation } from '../services/api/products/models/productRepresentation';\n",
        "import {ProductService} from \"../services/api/products/product.service\";\n",
        "import {Router} from \"@angular/router\";\n",
        "\n",
        "@Component({\n",
        "  selector: 'app-new-product',\n",
        "  standalone: false,\n",
        "\n",
        "  templateUrl: './new-product.component.html',\n",
        "  styleUrls: ['./new-product.component.css']\n",
        "})\n",
        "export class NewProductComponent {\n",
        "  product: ProductRepresentation = {};\n",
        "\n",
        "  constructor(\n",
        "    private service: ProductService,\n",
        "    private router: Router\n",
        "  ) {\n",
        "  }\n",
        "\n",
        "  saveProduct() {\n",
        "    this.service.createProduct(this.product)\n",
        "      .subscribe({\n",
        "        next: (result) => {\n",
        "          this.router.navigate(['products']);\n",
        "        }\n",
        "      });\n",
        "  }\n",
        "}\n"
      ],
      "metadata": {
        "id": "S37U4l0ayZCx"
      },
      "execution_count": null,
      "outputs": []
    },
    {
      "cell_type": "markdown",
      "source": [
        "messages.component"
      ],
      "metadata": {
        "id": "GQR1y0k7ybbS"
      }
    },
    {
      "cell_type": "markdown",
      "source": [
        "messages.component.css"
      ],
      "metadata": {
        "id": "y9Uz5R1IyiTi"
      }
    },
    {
      "cell_type": "code",
      "source": [
        "\n",
        "\n",
        ".message-details{\n",
        "   margin: 10px;\n",
        "   padding: 5px;\n",
        "   border: 1px solid #ccc;\n",
        "   background-color: #f7f7f7;\n",
        "   border-radius: 4px;\n",
        "   word-wrap: break-word;\n",
        "   white-space: pre-wrap;\n",
        "}\n",
        "\n",
        "li{\n",
        "  list-style-type: none;\n",
        "  word-wrap: break-word;\n",
        "  white-space: pre-wrap;\n",
        "}\n",
        "\n",
        "#button{\n",
        "  background-color:green;\n",
        "  margin:10px;\n",
        "}\n"
      ],
      "metadata": {
        "id": "TUZfzXqeygb5"
      },
      "execution_count": null,
      "outputs": []
    },
    {
      "cell_type": "markdown",
      "source": [
        "messages.component.html"
      ],
      "metadata": {
        "id": "8EcS6UB1y4MD"
      }
    },
    {
      "cell_type": "code",
      "source": [
        "<div class=\"message-details\">\n",
        "  <ul>\n",
        "    <li>Name: {{message.name}}</li>\n",
        "    <li>Email: {{message.email}}</li>\n",
        "    <li>Message: {{message.message}}</li>\n",
        "  </ul>\n",
        "  <button id=\"button\" (click)=\"onDelete()\">Delete</button>\n",
        "</div>\n"
      ],
      "metadata": {
        "id": "ig9EOChyy3YJ"
      },
      "execution_count": null,
      "outputs": []
    },
    {
      "cell_type": "markdown",
      "source": [
        "messages.component.ts"
      ],
      "metadata": {
        "id": "xdbS3Hu4y6Eb"
      }
    },
    {
      "cell_type": "code",
      "source": [
        "import { Component, Input, Output, EventEmitter } from '@angular/core';\n",
        "\n",
        "@Component({\n",
        "  selector: 'app-messages',\n",
        "  standalone: false,\n",
        "  templateUrl: './messages.component.html',\n",
        "  styleUrls: ['./messages.component.css']\n",
        "})\n",
        "export class MessagesComponent {\n",
        "  @Input() message:any ='';\n",
        "    @Input() index:number = -1;\n",
        "\n",
        "    @Output() del = new EventEmitter();\n",
        "    onDelete(){\n",
        "      this.del.emit(this.index);\n",
        "    }\n",
        "}\n"
      ],
      "metadata": {
        "id": "gKYbDyU6y7rT"
      },
      "execution_count": null,
      "outputs": []
    },
    {
      "cell_type": "markdown",
      "source": [
        "mainlogic.component"
      ],
      "metadata": {
        "id": "lyqeW0pazB9P"
      }
    },
    {
      "cell_type": "markdown",
      "source": [
        "mainlogic.component.css"
      ],
      "metadata": {
        "id": "6Er42rJXzFcy"
      }
    },
    {
      "cell_type": "code",
      "source": [
        ".form-container {\n",
        "  max-width: 400px;\n",
        "  margin: auto;\n",
        "  padding: 20px;\n",
        "  border: 1px solid #ccc;\n",
        "  border-radius: 5px;\n",
        "  background-color: #f7f7f7;\n",
        "}\n",
        "\n",
        "h4{\n",
        "  text-align: center;\n",
        "}\n",
        "\n",
        ".form-ele{\n",
        "  display:flex;\n",
        "  padding:1%;\n",
        "  align-items:center;\n",
        "}\n",
        "\n",
        "#Submit{\n",
        "  background-color:green;\n",
        "}\n",
        "\n",
        "\n"
      ],
      "metadata": {
        "id": "AdtFtCbUzFDi"
      },
      "execution_count": null,
      "outputs": []
    },
    {
      "cell_type": "markdown",
      "source": [
        "mainlogic.component.html"
      ],
      "metadata": {
        "id": "rIlSpFIUzJbO"
      }
    },
    {
      "cell_type": "code",
      "source": [
        "<div class=\"form-container\">\n",
        "  <h4 >Sample Form:</h4>\n",
        "  <form (ngSubmit)=\"onSubmit()\">\n",
        "    <div class=\"form-ele\">\n",
        "      <label for=\"name\">Name:</label>\n",
        "      <input type=\"text\" id=\"name\" required [(ngModel)]=\"name\" name=\"name\">\n",
        "    </div>\n",
        "    <div class=\"form-ele\">\n",
        "      <label for=\"email\">Email:</label>\n",
        "      <input type=\"text\" id=\"email\" required [(ngModel)]=\"email\" name=\"email\">\n",
        "    </div>\n",
        "    <div class=\"form-ele\">\n",
        "      <label for=\"message\">Message:</label>\n",
        "      <textarea id=\"message\" rows=\"4\" [(ngModel)]=\"message\" name=\"message\"  required></textarea>\n",
        "    </div>\n",
        "    <div class=\"form-ele\">\n",
        "      <button id=\"Submit\" >Submit</button>\n",
        "    </div>\n",
        "  </form>\n",
        "\n",
        "  <div id=\"container\" *ngIf=\"toShow\">\n",
        "    <app-messages *ngFor=\"let ele of messages; index as i\"\n",
        "                  [message]=\"ele\"\n",
        "                  [index]=\"i\"\n",
        "                  (del)=\"deleteMessage($event)\">\n",
        "    </app-messages>\n",
        "  </div>\n",
        "</div>\n",
        "\n"
      ],
      "metadata": {
        "id": "IRjrEprGzMku"
      },
      "execution_count": null,
      "outputs": []
    },
    {
      "cell_type": "markdown",
      "source": [
        "mainlogic.component.ts"
      ],
      "metadata": {
        "id": "gq3bb9N9zNb0"
      }
    },
    {
      "cell_type": "code",
      "source": [
        "import { Component } from '@angular/core';\n",
        "import { TestService } from '../services/test.service';\n",
        "\n",
        "\n",
        "@Component({\n",
        "  selector: 'app-mainlogic',\n",
        "  standalone: false,\n",
        "  templateUrl: './mainlogic.component.html',\n",
        "  styleUrls: ['./mainlogic.component.css']\n",
        "})\n",
        "export class MainlogicComponent {\n",
        "  name:string='';\n",
        "      email:string='';\n",
        "      message:string='';\n",
        "      toShow:boolean = false;\n",
        "      messages:Array<any>=[];\n",
        "\n",
        "      constructor(private ts:TestService){\n",
        "        this.messages = this.ts.getAllMessages();\n",
        "        this.toShow = this.messages.length > 0;\n",
        "      }\n",
        "\n",
        "      onSubmit(){\n",
        "        this.toShow = true;\n",
        "        this.ts.insertMessage({'name':this.name,'email':this.email,'message':this.message});\n",
        "        this.messages = this.ts.getAllMessages();\n",
        "      }\n",
        "\n",
        "      deleteMessage(index: number){\n",
        "        this.ts.delMessage(index);\n",
        "        this.messages = this.ts.getAllMessages();\n",
        "      }\n",
        "}\n"
      ],
      "metadata": {
        "id": "mYgUehlpzO7x"
      },
      "execution_count": null,
      "outputs": []
    },
    {
      "cell_type": "markdown",
      "source": [
        "header.component"
      ],
      "metadata": {
        "id": "otN6QeSIzRhb"
      }
    },
    {
      "cell_type": "markdown",
      "source": [
        "header.component.css"
      ],
      "metadata": {
        "id": "0xjrfAPRzY6Z"
      }
    },
    {
      "cell_type": "code",
      "source": [
        ".menu{\n",
        "  display:flex;\n",
        "  justify-content:center;\n",
        "  background: green;\n",
        "  color:whilte\n",
        "}\n",
        "\n",
        "a{\n",
        "  padding:2%;\n",
        "}\n"
      ],
      "metadata": {
        "id": "WkJcKwjJzV4v"
      },
      "execution_count": null,
      "outputs": []
    },
    {
      "cell_type": "markdown",
      "source": [
        "header.component.html"
      ],
      "metadata": {
        "id": "Xx_IA8x3zbun"
      }
    },
    {
      "cell_type": "code",
      "source": [
        "<div class=\"menu\">\n",
        "  <a routerLink=\"/\" routerLinkActive=\"active\">Home</a>\n",
        "  <a routerLink=\"/newProduct\" routerLinkActive=\"active\">Add Product</a>\n",
        "  <a routerLink=\"/products\" routerLinkActive=\"active\">Products</a>\n",
        "  <a routerLink=\"/about\" routerLinkActive=\"active\">About</a>\n",
        "</div>\n"
      ],
      "metadata": {
        "id": "nNmg-W7dzcwh"
      },
      "execution_count": null,
      "outputs": []
    },
    {
      "cell_type": "markdown",
      "source": [
        "about.component"
      ],
      "metadata": {
        "id": "hnRHpZc7zfBw"
      }
    },
    {
      "cell_type": "code",
      "source": [
        "about.component.css"
      ],
      "metadata": {
        "id": "K1TZITVazkoU"
      },
      "execution_count": null,
      "outputs": []
    },
    {
      "cell_type": "code",
      "source": [
        ".about-container {\n",
        "  max-width: 800px;\n",
        "  margin: 0 auto;\n",
        "  padding: 20px;\n",
        "  background-color: #f5f5f5;\n",
        "  border-radius: 5px;\n",
        "  box-shadow: 0 2px 4px rgba(0, 0, 0, 0.1);\n",
        "}\n",
        "\n",
        "h2 {\n",
        "  color: #333;\n",
        "}\n",
        "\n",
        "p {\n",
        "  color: #555;\n",
        "  line-height: 1.6;\n",
        "}\n"
      ],
      "metadata": {
        "id": "Gx7MDA59zmGU"
      },
      "execution_count": null,
      "outputs": []
    },
    {
      "cell_type": "markdown",
      "source": [
        "about.component.html"
      ],
      "metadata": {
        "id": "bZsbRR3zzost"
      }
    },
    {
      "cell_type": "code",
      "source": [
        "<div class=\"about-container\">\n",
        "  <h2>About the Angular Crash Course</h2>\n",
        "  <p>\n",
        "    Welcome to the Angular Crash Course! This course is designed for beginners who want to learn Angular,\n",
        "    one of the most popular JavaScript frameworks for building web applications.\n",
        "  </p>\n",
        "\n",
        "  <p>\n",
        "    In this course, you will learn the fundamentals of Angular, including components, services, routing,\n",
        "    and HTTP communication. By the end of the course, you will have a solid understanding of how to build\n",
        "    powerful and interactive web applications using Angular.\n",
        "  </p>\n",
        "\n",
        "  <p>\n",
        "    Whether you are new to web development or have experience with other frameworks, this crash course\n",
        "    will get you up to speed with Angular in no time.\n",
        "  </p>\n",
        "</div>\n"
      ],
      "metadata": {
        "id": "Vv6kaN5izqU3"
      },
      "execution_count": null,
      "outputs": []
    },
    {
      "cell_type": "markdown",
      "source": [
        "about.component.ts"
      ],
      "metadata": {
        "id": "9ozJeyKdzvQP"
      }
    },
    {
      "cell_type": "code",
      "source": [
        "import { Component, OnInit } from '@angular/core';\n",
        "import { ActivatedRoute } from '@angular/router';\n",
        "import { ProductService } from '../services/api/products/product.service';\n",
        "import { ProductRepresentation } from '../services/api/products/models/productRepresentation';\n",
        "\n",
        "@Component({\n",
        "  selector: 'app-about',\n",
        "  standalone: false,\n",
        "\n",
        "  templateUrl: './about.component.html',\n",
        "  styleUrl: './about.component.css'\n",
        "})\n",
        "export class AboutComponent{\n",
        "}\n"
      ],
      "metadata": {
        "id": "qS1aETKOzwz7"
      },
      "execution_count": null,
      "outputs": []
    }
  ],
  "metadata": {
    "colab": {
      "name": "Welcome To Colab",
      "toc_visible": true,
      "provenance": [],
      "include_colab_link": true
    },
    "kernelspec": {
      "display_name": "Python 3",
      "name": "python3"
    }
  },
  "nbformat": 4,
  "nbformat_minor": 0
}