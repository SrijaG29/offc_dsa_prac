{
  "cells": [
    {
      "cell_type": "markdown",
      "metadata": {
        "id": "view-in-github",
        "colab_type": "text"
      },
      "source": [
        "<a href=\"https://colab.research.google.com/github/SrijaG29/offc_dsa_prac/blob/main/Welcome_To_Colab.ipynb\" target=\"_parent\"><img src=\"https://colab.research.google.com/assets/colab-badge.svg\" alt=\"Open In Colab\"/></a>"
      ]
    },
    {
      "cell_type": "code",
      "source": [
        "import java.util.Arrays;\n",
        "\n",
        "public class bubbleSort {\n",
        "    public static void main(String[] args){\n",
        "        int[] nums = {64,10,6,29,11};\n",
        "        int n = nums.length;\n",
        "        int i,j,temp;\n",
        "        boolean swapped;\n",
        "        for(i=0;i<n-1;i++){\n",
        "            swapped = false;\n",
        "            for(j=0;j<n-i-1;j++){\n",
        "                if(nums[j]>nums[j+1]){\n",
        "                    temp = nums[j];\n",
        "                    nums[j] = nums[j+1];\n",
        "                    nums[j+1] = temp;\n",
        "                    swapped = true;\n",
        "                }\n",
        "            }\n",
        "            if(swapped == false){\n",
        "                break;\n",
        "            }\n",
        "        }\n",
        "        System.out.println(Arrays.toString(nums));\n",
        "    }\n",
        "}\n"
      ],
      "metadata": {
        "id": "7h9NoDP43_Fz"
      },
      "execution_count": null,
      "outputs": []
    },
    {
      "cell_type": "markdown",
      "source": [
        "Recursion bubble sort"
      ],
      "metadata": {
        "id": "aAl2h30dADvn"
      }
    },
    {
      "cell_type": "code",
      "source": [
        "import java.util.Arrays;\n",
        "\n",
        "public class recursionBubbleSort {\n",
        "    public static void main(String[] args){\n",
        "        int[] arr = {40,34,6,19,11};\n",
        "        System.out.println(\"Orginal array before sorting is: \" +Arrays.toString(arr));\n",
        "        bubbleSort(arr,arr.length);\n",
        "        System.out.println(\"Sorted array after sorting is: \" +Arrays.toString(arr));\n",
        "    }\n",
        "    static void bubbleSort(int[] arr,int n){\n",
        "        if(n ==1){\n",
        "            return;\n",
        "        }\n",
        "        boolean swapped = false;\n",
        "        for(int i=0;i<n-1;i++){\n",
        "            if(arr[i]>arr[i+1]){\n",
        "                int temp = arr[i];\n",
        "                arr[i] = arr[i+1];\n",
        "                arr[i+1] = temp;\n",
        "                swapped = true;\n",
        "            }\n",
        "        }\n",
        "        if(!swapped)\n",
        "            return;\n",
        "        bubbleSort(arr,n-1);\n",
        "    }\n",
        "\n",
        "}"
      ],
      "metadata": {
        "id": "Q4uG4ctCADKK"
      },
      "execution_count": null,
      "outputs": []
    },
    {
      "cell_type": "markdown",
      "source": [
        "Largest sum of subarray"
      ],
      "metadata": {
        "id": "44-XLd3_3n_o"
      }
    },
    {
      "cell_type": "code",
      "source": [
        "import java.util.ArrayList;\n",
        "import java.util.HashMap;\n",
        "\n",
        "public class largestSubArraySum {\n",
        "    public static void main(String[] args){\n",
        "        int[] arr = {6,1,2,3,5,7};\n",
        "        int k = 5;\n",
        "        ArrayList<Integer> result = new ArrayList<>();\n",
        "        int maxLength = 0;\n",
        "        HashMap<Integer, Integer> sumIndexMap = new HashMap<>();\n",
        "        int sum= 0;\n",
        "        sumIndexMap.put(0, -1);\n",
        "        for(int i=0;i<arr.length;i++){\n",
        "            sum+=arr[i];\n",
        "            if(sumIndexMap.containsKey(sum - k)){\n",
        "                int startIndex = sumIndexMap.get(sum - k)+1;\n",
        "                int len = i - startIndex+1;\n",
        "                if(len>maxLength){\n",
        "                    maxLength = len;\n",
        "                    result.clear();\n",
        "                }\n",
        "            }\n",
        "            sumIndexMap.putIfAbsent(sum, i);\n",
        "        }\n",
        "        System.out.println(maxLength);\n",
        "    }\n",
        "}\n"
      ],
      "metadata": {
        "id": "iSRGBbXrLf3d"
      },
      "execution_count": null,
      "outputs": []
    },
    {
      "cell_type": "markdown",
      "source": [
        "twosum"
      ],
      "metadata": {
        "id": "wSwOZzLL3lce"
      }
    },
    {
      "cell_type": "code",
      "source": [
        "import java.util.Arrays;\n",
        "import java.util.HashMap;\n",
        "\n",
        "public class twoSum {\n",
        "    public static void main(String[] args){\n",
        "        int[] arr = {2,10,11,7,15};\n",
        "        int target = 9;\n",
        "        HashMap<Integer,Integer> map = new HashMap<>();\n",
        "        int sub =0;\n",
        "        int[] result = new int[2];\n",
        "        for(int i=0;i<arr.length;i++){\n",
        "            sub = target - arr[i];\n",
        "            if(map.containsKey(sub)){\n",
        "                result[0] = map.get(sub);\n",
        "                result[1] = i;\n",
        "            }\n",
        "            map.put(arr[i],i);\n",
        "        }\n",
        "        System.out.println(Arrays.toString(result));\n",
        "    }\n",
        "}\n"
      ],
      "metadata": {
        "id": "vrXaCo4f3kf1"
      },
      "execution_count": null,
      "outputs": []
    }
  ],
  "metadata": {
    "colab": {
      "name": "Welcome To Colab",
      "toc_visible": true,
      "provenance": [],
      "include_colab_link": true
    },
    "kernelspec": {
      "display_name": "Python 3",
      "name": "python3"
    }
  },
  "nbformat": 4,
  "nbformat_minor": 0
}