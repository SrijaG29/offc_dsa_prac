{
  "cells": [
    {
      "cell_type": "markdown",
      "metadata": {
        "id": "view-in-github",
        "colab_type": "text"
      },
      "source": [
        "<a href=\"https://colab.research.google.com/github/SrijaG29/offc_dsa_prac/blob/main/Welcome_To_Colab.ipynb\" target=\"_parent\"><img src=\"https://colab.research.google.com/assets/colab-badge.svg\" alt=\"Open In Colab\"/></a>"
      ]
    },
    {
      "cell_type": "markdown",
      "source": [
        "Isomorphic Strings"
      ],
      "metadata": {
        "id": "MbeuKXF53Yun"
      }
    },
    {
      "cell_type": "code",
      "source": [
        "import java.util.ArrayList;\n",
        "import java.util.HashMap;\n",
        "import java.util.List;\n",
        "import java.util.Map;\n",
        "\n",
        "public class isomorphicString {\n",
        "    public static void main(String[] args) {\n",
        "        String s = \"paper\";\n",
        "        String t = \"title\";\n",
        "\n",
        "        if (s.length() != t.length()) {\n",
        "            System.out.println(\"No\");\n",
        "        }\n",
        "\n",
        "        Map<Character, Character> mapSToT = new HashMap<>();\n",
        "        Map<Character, Character> mapTToS = new HashMap<>();\n",
        "\n",
        "        for (int i = 0; i < s.length(); i++) {\n",
        "            char charS = s.charAt(i);\n",
        "            char charT = t.charAt(i);\n",
        "            if (mapSToT.containsKey(charS)) {\n",
        "                if (mapSToT.get(charS) != charT) {\n",
        "                    System.out.println(\"No\");\n",
        "                }\n",
        "            } else {\n",
        "                mapSToT.put(charS, charT);\n",
        "            }\n",
        "            if (mapTToS.containsKey(charT)) {\n",
        "                if (mapTToS.get(charT) != charS) {\n",
        "                    System.out.println(\"No\");\n",
        "                }\n",
        "            } else {\n",
        "                mapTToS.put(charT, charS);\n",
        "            }\n",
        "        }\n",
        "        System.out.println(\"Yes\");\n",
        "    }\n",
        "}\n"
      ],
      "metadata": {
        "id": "KRcfz20K3Zt2"
      },
      "execution_count": null,
      "outputs": []
    },
    {
      "cell_type": "markdown",
      "source": [
        "ValidAnagram"
      ],
      "metadata": {
        "id": "s_lsQTv3PCMp"
      }
    },
    {
      "cell_type": "code",
      "source": [
        "import java.util.HashMap;\n",
        "\n",
        "public class validAnagram {\n",
        "    public static void main(String[] args) {\n",
        "        String s =\"anagaram\";\n",
        "        String t =\"naagaram\";\n",
        "        if(s == null || t == null || s.length()!=t.length()){\n",
        "            System.out.println(\"false\");\n",
        "        }\n",
        "        HashMap<Character,Integer> sd = new HashMap<>();\n",
        "        HashMap<Character,Integer> td = new HashMap<>();\n",
        "        for(int i=0; i<s.length(); i++){\n",
        "            char charS = s.charAt(i);\n",
        "            char charT = t.charAt(i);\n",
        "            sd.put(charS, sd.getOrDefault(charS, 0) + 1);\n",
        "            td.put(charT, td.getOrDefault(charT, 0) + 1);\n",
        "        }\n",
        "        for (char key : sd.keySet()) {\n",
        "            if (!td.containsKey(key) || !sd.get(key).equals(td.get(key))) {\n",
        "                System.out.println(\"false\");\n",
        "            }\n",
        "        }\n",
        "        System.out.println(\"true\");\n",
        "    }\n",
        "}\n"
      ],
      "metadata": {
        "id": "863eAJHBPGdP"
      },
      "execution_count": null,
      "outputs": []
    }
  ],
  "metadata": {
    "colab": {
      "name": "Welcome To Colab",
      "toc_visible": true,
      "provenance": [],
      "include_colab_link": true
    },
    "kernelspec": {
      "display_name": "Python 3",
      "name": "python3"
    }
  },
  "nbformat": 4,
  "nbformat_minor": 0
}